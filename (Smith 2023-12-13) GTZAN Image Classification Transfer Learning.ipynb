{
 "cells": [
  {
   "cell_type": "markdown",
   "id": "a689e23e",
   "metadata": {},
   "source": [
    "# GTZAN Image Classification Transfer Learning"
   ]
  },
  {
   "cell_type": "markdown",
   "id": "6810e14f",
   "metadata": {},
   "source": [
    "### Import libraries"
   ]
  },
  {
   "cell_type": "code",
   "execution_count": 1,
   "id": "f0177d01",
   "metadata": {},
   "outputs": [],
   "source": [
    "import pandas as pd\n",
    "import numpy as np\n",
    "import seaborn as sns\n",
    "import matplotlib.pyplot as plt\n",
    "import sklearn\n",
    "from sklearn import preprocessing\n",
    "\n",
    "import librosa\n",
    "import librosa.display\n",
    "import IPython.display as ipd\n",
    "\n",
    "import warnings\n",
    "warnings.filterwarnings('ignore')\n",
    "\n",
    "%matplotlib inline"
   ]
  },
  {
   "cell_type": "code",
   "execution_count": 2,
   "id": "bc00e084",
   "metadata": {},
   "outputs": [],
   "source": [
    "import os\n",
    "general_path = '/Users/hannahgracesmith/Desktop/DS207_final_project/Data'"
   ]
  },
  {
   "cell_type": "code",
   "execution_count": 3,
   "id": "03ab43e5",
   "metadata": {},
   "outputs": [],
   "source": [
    "from sklearn.naive_bayes import GaussianNB\n",
    "from sklearn.linear_model import SGDClassifier, LogisticRegression\n",
    "from sklearn.neighbors import KNeighborsClassifier\n",
    "from sklearn.tree import DecisionTreeClassifier\n",
    "from sklearn.ensemble import RandomForestClassifier\n",
    "from sklearn.svm import SVC\n",
    "from sklearn.neural_network import MLPClassifier\n",
    "\n",
    "from xgboost import XGBClassifier, XGBRFClassifier\n",
    "from xgboost import plot_tree, plot_importance\n",
    "\n",
    "from sklearn.metrics import confusion_matrix, accuracy_score, roc_auc_score, roc_curve, precision_score, recall_score\n",
    "\n",
    "from sklearn import preprocessing\n",
    "from sklearn.model_selection import train_test_split\n",
    "from sklearn.feature_selection import RFE"
   ]
  },
  {
   "cell_type": "code",
   "execution_count": 4,
   "id": "f5fe68b8",
   "metadata": {},
   "outputs": [],
   "source": [
    "# Import the libraries for images\n",
    "from PIL import Image\n",
    "import io\n",
    "from keras.utils import to_categorical\n",
    "from sklearn.preprocessing import LabelEncoder\n",
    "\n",
    "import tensorflow as tf\n",
    "from tensorflow import keras\n",
    "from keras import metrics\n",
    "tf.get_logger().setLevel('INFO')\n",
    "from tensorflow.keras.models import Sequential\n",
    "from tensorflow.keras.layers import Conv2D, MaxPooling2D, Dropout, Flatten, Dense\n",
    "from tensorflow.keras.layers import BatchNormalization\n",
    "\n",
    "from tensorflow.keras.preprocessing.image import ImageDataGenerator, array_to_img, img_to_array, load_img\n",
    "from keras import models\n",
    "from keras import layers"
   ]
  },
  {
   "cell_type": "markdown",
   "id": "41515c31",
   "metadata": {},
   "source": [
    "## Transfer Learning"
   ]
  },
  {
   "cell_type": "markdown",
   "id": "4ec8887a",
   "metadata": {},
   "source": [
    "Source: https://github.com/Ishaanidisha/W207-Fall-2023/blob/main/MIscellaneous/Week%2009/Transfer_learning_CIFAR.ipynb"
   ]
  },
  {
   "cell_type": "markdown",
   "id": "39565ef7",
   "metadata": {},
   "source": [
    "### Import libraries"
   ]
  },
  {
   "cell_type": "code",
   "execution_count": 5,
   "id": "80d60ee5",
   "metadata": {},
   "outputs": [],
   "source": [
    "from __future__ import print_function\n",
    "\n",
    "from time import time\n",
    "import keras\n",
    "from keras.models import Sequential\n",
    "from keras.layers import Dense, Dropout, Activation, Flatten\n",
    "from keras.layers import Conv2D, MaxPooling2D\n",
    "from keras.optimizers import Adam\n",
    "from keras import backend as K\n",
    "\n",
    "import matplotlib.pyplot as plt\n",
    "import random"
   ]
  },
  {
   "cell_type": "markdown",
   "id": "94541779",
   "metadata": {},
   "source": [
    "### Filters, pool size, and kernel size"
   ]
  },
  {
   "cell_type": "code",
   "execution_count": 6,
   "id": "76e71054",
   "metadata": {},
   "outputs": [],
   "source": [
    "# size of pooling area for max pooling\n",
    "pool_size = (3,3)\n",
    "\n",
    "# convolution kernel size\n",
    "kernel_size = (5,5)\n",
    "\n",
    "# strides\n",
    "stride_size = (2,2)"
   ]
  },
  {
   "cell_type": "markdown",
   "id": "81420eec",
   "metadata": {},
   "source": [
    "### Load data"
   ]
  },
  {
   "cell_type": "code",
   "execution_count": 7,
   "id": "13834e6f",
   "metadata": {},
   "outputs": [],
   "source": [
    "# Directory\n",
    "root_dir = '/Users/hannahgracesmith/Desktop/DS207_final_project/Data/images_original'\n",
    "\n",
    "# Import the data\n",
    "image_data = []\n",
    "labels = []\n",
    "\n",
    "for folder in os.listdir(root_dir):\n",
    "    folder_path = os.path.join(root_dir, folder)\n",
    "    if os.path.isdir(folder_path):\n",
    "        for image_file in os.listdir(folder_path):\n",
    "            if image_file.endswith(('.jpg', '.png', '.jpeg')):\n",
    "                image_path = os.path.join(folder_path, image_file)\n",
    "                image = Image.open(image_path)\n",
    "                image_array = np.array(image)\n",
    "                image_data.append(image_array)\n",
    "                labels.append(folder)"
   ]
  },
  {
   "cell_type": "markdown",
   "id": "69463439",
   "metadata": {},
   "source": [
    "### Prepare the Data"
   ]
  },
  {
   "cell_type": "code",
   "execution_count": 8,
   "id": "fbbad0f2",
   "metadata": {},
   "outputs": [],
   "source": [
    "# Split the data\n",
    "X_train, X_test, Y_train, Y_test = train_test_split(np.array(image_data).astype('uint8'), labels, test_size=0.2)"
   ]
  },
  {
   "cell_type": "code",
   "execution_count": 9,
   "id": "49fad678",
   "metadata": {},
   "outputs": [],
   "source": [
    "# Normalize the pixel values\n",
    "X_train = X_train / 255.0\n",
    "X_test = X_test / 255.0\n",
    "\n",
    "# Create and fit the label encoder\n",
    "label_encoder = LabelEncoder()\n",
    "Y_train = label_encoder.fit_transform(Y_train)\n",
    "Y_test = label_encoder.transform(Y_test)\n",
    "\n",
    "label_names = ['blues', 'classical', 'country', 'disco', 'hiphop',\n",
    "               'jazz', 'metal', 'pop', 'reggae', 'rock']\n",
    "\n",
    "# Shuffle the training data\n",
    "np.random.seed(0)\n",
    "indices = np.arange(X_train.shape[0])\n",
    "shuffled_indices = np.random.permutation(indices)\n",
    "X_train = X_train[shuffled_indices]\n",
    "Y_train = Y_train[shuffled_indices]"
   ]
  },
  {
   "cell_type": "code",
   "execution_count": 10,
   "id": "b0b1143f",
   "metadata": {},
   "outputs": [
    {
     "name": "stderr",
     "output_type": "stream",
     "text": [
      "2023-12-13 23:18:29.492035: I tensorflow/core/platform/cpu_feature_guard.cc:193] This TensorFlow binary is optimized with oneAPI Deep Neural Network Library (oneDNN) to use the following CPU instructions in performance-critical operations:  AVX2 FMA\n",
      "To enable them in other operations, rebuild TensorFlow with the appropriate compiler flags.\n"
     ]
    }
   ],
   "source": [
    "# Preprocessing\n",
    "IMAGE_SIZE = (288, 432)\n",
    "CONTRAST_FACTOR = 3\n",
    "DELTA = 0.3\n",
    "\n",
    "### image transformation on training and test data ###\n",
    "###################################################################\n",
    "# image resize\n",
    "X_train = tf.image.resize(X_train, size=IMAGE_SIZE)\n",
    "X_test = tf.image.resize(X_test, size=IMAGE_SIZE)\n",
    "\n",
    "### image augmentation on training data ###\n",
    "###########################################\n",
    "# adjust brightness\n",
    "X_train_augm = tf.image.adjust_brightness(X_train, delta=DELTA)\n",
    "\n",
    "# adjust contrast\n",
    "X_train_augm = tf.image.adjust_contrast(X_train_augm, contrast_factor=CONTRAST_FACTOR)\n",
    "\n",
    "# random flip\n",
    "X_train_augm = tf.image.random_flip_left_right(X_train_augm)\n",
    "\n",
    "# concatenate original X_train and augmented X_train data\n",
    "X_train = tf.concat([X_train, X_train_augm],axis=0)\n",
    "\n",
    "# concatenate Y_train (note the label is preserved)\n",
    "Y_train_augm = Y_train\n",
    "Y_train = tf.concat([Y_train, Y_train_augm],axis=0)\n",
    "\n",
    "# shuffle X_train and Y_train, i.e., shuffle two tensors in the same order\n",
    "shuffle = tf.random.shuffle(tf.range(tf.shape(X_train)[0], dtype=tf.int32))\n",
    "X_train = tf.gather(X_train, shuffle)\n",
    "Y_train = tf.gather(Y_train, shuffle).numpy() #also transforms Y_train to numpy array"
   ]
  },
  {
   "cell_type": "markdown",
   "id": "3ba9ec4e",
   "metadata": {},
   "source": [
    "### Set the number of classes and the input shape"
   ]
  },
  {
   "cell_type": "code",
   "execution_count": 11,
   "id": "84c4a108",
   "metadata": {},
   "outputs": [],
   "source": [
    "num_classes = 10\n",
    "input_shape = (288, 432, 4)"
   ]
  },
  {
   "cell_type": "markdown",
   "id": "a63b3902",
   "metadata": {},
   "source": [
    "### Define two groups of layers: feature (convolutions) and classification (dense)"
   ]
  },
  {
   "cell_type": "code",
   "execution_count": 12,
   "id": "7ab533cd",
   "metadata": {},
   "outputs": [],
   "source": [
    "feature_layers = [\n",
    "    Conv2D(filters=32,\n",
    "    kernel_size=kernel_size,\n",
    "    strides=stride_size,\n",
    "    padding='same',\n",
    "    data_format='channels_last',\n",
    "    input_shape=input_shape,\n",
    "    activation='relu'),\n",
    "    MaxPooling2D(pool_size=pool_size),\n",
    "    Conv2D(filters=64,\n",
    "    kernel_size=kernel_size,\n",
    "    strides=stride_size,\n",
    "    padding='same',\n",
    "    data_format='channels_last',\n",
    "    activation='relu'),\n",
    "    MaxPooling2D(pool_size=pool_size),\n",
    "    Flatten()\n",
    "]"
   ]
  },
  {
   "cell_type": "code",
   "execution_count": 13,
   "id": "4ed29fc7",
   "metadata": {},
   "outputs": [],
   "source": [
    "classification_layers = [\n",
    "    Dense(512),\n",
    "    Activation('relu'),\n",
    "    BatchNormalization(),\n",
    "    Dropout(0.3),\n",
    "    Dense(num_classes),\n",
    "    Activation('softmax')\n",
    "]"
   ]
  },
  {
   "cell_type": "markdown",
   "id": "1d4f2c9b",
   "metadata": {},
   "source": [
    "### Create the complete model by stacking together `feature_layers` and `classification_layers`"
   ]
  },
  {
   "cell_type": "code",
   "execution_count": 14,
   "id": "bae16d84",
   "metadata": {},
   "outputs": [],
   "source": [
    "model_1 = Sequential(feature_layers + classification_layers)"
   ]
  },
  {
   "cell_type": "markdown",
   "id": "a5260345",
   "metadata": {},
   "source": [
    "### Function definition for training a model"
   ]
  },
  {
   "cell_type": "code",
   "execution_count": 45,
   "id": "55f84aa3",
   "metadata": {},
   "outputs": [],
   "source": [
    "def train_model(model, train, test, num_classes,epochs=epochs):\n",
    "    x_train = train[0]\n",
    "    x_test = test[0]\n",
    "\n",
    "    print('x_train shape:', x_train.shape)\n",
    "    print(x_train.shape[0], 'train samples')\n",
    "    print(x_test.shape[0], 'test samples')\n",
    "    \n",
    "    # convert class vectors to binary class matrices\n",
    "    y_train = keras.utils.to_categorical(train[1], num_classes)\n",
    "    y_test = keras.utils.to_categorical(test[1], num_classes)\n",
    "\n",
    "    model.compile(loss='categorical_crossentropy',\n",
    "                  optimizer=Adam(lr=0.0001),\n",
    "                  metrics=['accuracy'])\n",
    "\n",
    "    t1 = time()\n",
    "    model.fit(x_train, y_train,\n",
    "              batch_size=batch_size,\n",
    "              epochs=epochs,\n",
    "              verbose=1,\n",
    "              validation_data=(x_test, y_test))\n",
    "    t2 = time()\n",
    "    t_delta = round(t2-t1,2)\n",
    "    print('Training time: {} seconds'.format(t_delta))\n",
    "    score = model.evaluate(x_test, y_test, verbose=0)\n",
    "    print('Test score:', score[0])\n",
    "    print('Test accuracy:', score[1])"
   ]
  },
  {
   "cell_type": "markdown",
   "id": "c3390232",
   "metadata": {},
   "source": [
    "### Batch size and epochs"
   ]
  },
  {
   "cell_type": "code",
   "execution_count": 16,
   "id": "cda53659",
   "metadata": {},
   "outputs": [],
   "source": [
    "batch_size = 64\n",
    "epochs = 30"
   ]
  },
  {
   "cell_type": "code",
   "execution_count": 17,
   "id": "36f48662",
   "metadata": {},
   "outputs": [],
   "source": [
    "X_test_sub = X_test[:150]\n",
    "Y_test_sub = Y_test[:150]"
   ]
  },
  {
   "cell_type": "markdown",
   "id": "dbd07e04",
   "metadata": {},
   "source": [
    "### Train model for the first 5 categories of images"
   ]
  },
  {
   "cell_type": "code",
   "execution_count": 18,
   "id": "d0f61e62",
   "metadata": {},
   "outputs": [
    {
     "name": "stdout",
     "output_type": "stream",
     "text": [
      "x_train shape: (1598, 288, 432, 4)\n",
      "1598 train samples\n",
      "150 test samples\n",
      "Epoch 1/30\n",
      "25/25 [==============================] - 53s 2s/step - loss: 2.2978 - accuracy: 0.1815 - val_loss: 2.2708 - val_accuracy: 0.1533\n",
      "Epoch 2/30\n",
      "25/25 [==============================] - 53s 2s/step - loss: 1.8926 - accuracy: 0.3323 - val_loss: 2.2334 - val_accuracy: 0.1067\n",
      "Epoch 3/30\n",
      "25/25 [==============================] - 50s 2s/step - loss: 1.6730 - accuracy: 0.4199 - val_loss: 2.1844 - val_accuracy: 0.3267\n",
      "Epoch 4/30\n",
      "25/25 [==============================] - 49s 2s/step - loss: 1.4937 - accuracy: 0.5044 - val_loss: 2.1963 - val_accuracy: 0.1067\n",
      "Epoch 5/30\n",
      "25/25 [==============================] - 49s 2s/step - loss: 1.3494 - accuracy: 0.5701 - val_loss: 2.1659 - val_accuracy: 0.3000\n",
      "Epoch 6/30\n",
      "25/25 [==============================] - 47s 2s/step - loss: 1.2135 - accuracy: 0.6070 - val_loss: 2.1683 - val_accuracy: 0.2533\n",
      "Epoch 7/30\n",
      "25/25 [==============================] - 46s 2s/step - loss: 1.0918 - accuracy: 0.6733 - val_loss: 2.1355 - val_accuracy: 0.2067\n",
      "Epoch 8/30\n",
      "25/25 [==============================] - 47s 2s/step - loss: 0.9816 - accuracy: 0.7247 - val_loss: 2.0790 - val_accuracy: 0.2267\n",
      "Epoch 9/30\n",
      "25/25 [==============================] - 45s 2s/step - loss: 0.8873 - accuracy: 0.7591 - val_loss: 2.0197 - val_accuracy: 0.3067\n",
      "Epoch 10/30\n",
      "25/25 [==============================] - 44s 2s/step - loss: 0.8149 - accuracy: 0.7891 - val_loss: 1.9721 - val_accuracy: 0.4267\n",
      "Epoch 11/30\n",
      "25/25 [==============================] - 45s 2s/step - loss: 0.7555 - accuracy: 0.8154 - val_loss: 1.9138 - val_accuracy: 0.4333\n",
      "Epoch 12/30\n",
      "25/25 [==============================] - 44s 2s/step - loss: 0.6600 - accuracy: 0.8392 - val_loss: 1.8680 - val_accuracy: 0.5733\n",
      "Epoch 13/30\n",
      "25/25 [==============================] - 44s 2s/step - loss: 0.5786 - accuracy: 0.8723 - val_loss: 1.8321 - val_accuracy: 0.4533\n",
      "Epoch 14/30\n",
      "25/25 [==============================] - 44s 2s/step - loss: 0.5146 - accuracy: 0.9011 - val_loss: 1.7400 - val_accuracy: 0.5533\n",
      "Epoch 15/30\n",
      "25/25 [==============================] - 44s 2s/step - loss: 0.4792 - accuracy: 0.9105 - val_loss: 1.6757 - val_accuracy: 0.5000\n",
      "Epoch 16/30\n",
      "25/25 [==============================] - 49s 2s/step - loss: 0.4339 - accuracy: 0.9180 - val_loss: 1.6209 - val_accuracy: 0.4600\n",
      "Epoch 17/30\n",
      "25/25 [==============================] - 103s 4s/step - loss: 0.3793 - accuracy: 0.9387 - val_loss: 1.6084 - val_accuracy: 0.5067\n",
      "Epoch 18/30\n",
      "25/25 [==============================] - 202s 8s/step - loss: 0.3523 - accuracy: 0.9474 - val_loss: 1.5631 - val_accuracy: 0.4333\n",
      "Epoch 19/30\n",
      "25/25 [==============================] - 56s 2s/step - loss: 0.3153 - accuracy: 0.9574 - val_loss: 1.4478 - val_accuracy: 0.5133\n",
      "Epoch 20/30\n",
      "25/25 [==============================] - 52s 2s/step - loss: 0.2855 - accuracy: 0.9687 - val_loss: 1.3396 - val_accuracy: 0.5933\n",
      "Epoch 21/30\n",
      "25/25 [==============================] - 51s 2s/step - loss: 0.2610 - accuracy: 0.9681 - val_loss: 1.2596 - val_accuracy: 0.6200\n",
      "Epoch 22/30\n",
      "25/25 [==============================] - 49s 2s/step - loss: 0.2429 - accuracy: 0.9687 - val_loss: 1.2330 - val_accuracy: 0.6467\n",
      "Epoch 23/30\n",
      "25/25 [==============================] - 47s 2s/step - loss: 0.2140 - accuracy: 0.9812 - val_loss: 1.2091 - val_accuracy: 0.6267\n",
      "Epoch 24/30\n",
      "25/25 [==============================] - 47s 2s/step - loss: 0.2005 - accuracy: 0.9825 - val_loss: 1.1821 - val_accuracy: 0.6400\n",
      "Epoch 25/30\n",
      "25/25 [==============================] - 48s 2s/step - loss: 0.1823 - accuracy: 0.9887 - val_loss: 1.1269 - val_accuracy: 0.6400\n",
      "Epoch 26/30\n",
      "25/25 [==============================] - 45s 2s/step - loss: 0.1702 - accuracy: 0.9894 - val_loss: 1.0442 - val_accuracy: 0.6400\n",
      "Epoch 27/30\n",
      "25/25 [==============================] - 45s 2s/step - loss: 0.1592 - accuracy: 0.9906 - val_loss: 1.0254 - val_accuracy: 0.6400\n",
      "Epoch 28/30\n",
      "25/25 [==============================] - 44s 2s/step - loss: 0.1426 - accuracy: 0.9925 - val_loss: 1.0889 - val_accuracy: 0.6600\n",
      "Epoch 29/30\n",
      "25/25 [==============================] - 43s 2s/step - loss: 0.1289 - accuracy: 0.9944 - val_loss: 1.0450 - val_accuracy: 0.6600\n",
      "Epoch 30/30\n",
      "25/25 [==============================] - 44s 2s/step - loss: 0.1168 - accuracy: 0.9981 - val_loss: 1.0024 - val_accuracy: 0.6533\n",
      "Training time: 1628.7 seconds\n",
      "Test score: 1.0023679733276367\n",
      "Test accuracy: 0.653333306312561\n"
     ]
    }
   ],
   "source": [
    "train_model(model_1,\n",
    "            (X_train, Y_train),\n",
    "            (X_test_sub, Y_test_sub),\n",
    "            num_classes,\n",
    "            epochs)"
   ]
  },
  {
   "cell_type": "code",
   "execution_count": 24,
   "id": "252856c1",
   "metadata": {},
   "outputs": [],
   "source": [
    "from sklearn.preprocessing import OneHotEncoder\n",
    "#Create an instance of the OneHotEncoder\n",
    "encoder = OneHotEncoder(sparse=False)\n",
    "\n",
    "# Fit and transform the data\n",
    "Y_test_reshaped = Y_test.reshape(-1, 1)\n",
    "Y_test_onehot = encoder.fit_transform(Y_test_reshaped)"
   ]
  },
  {
   "cell_type": "code",
   "execution_count": 25,
   "id": "bdf5d713",
   "metadata": {},
   "outputs": [
    {
     "name": "stdout",
     "output_type": "stream",
     "text": [
      "7/7 [==============================] - 2s 204ms/step - loss: 1.0492 - accuracy: 0.6400\n",
      "\n",
      "Test Acc. 64.00%\n"
     ]
    }
   ],
   "source": [
    "test_results = model_1.evaluate(X_test, Y_test_onehot)\n",
    "print('\\nTest Acc. {:.2f}%'.format(test_results[1]*100))"
   ]
  },
  {
   "cell_type": "markdown",
   "id": "ba13bd19",
   "metadata": {},
   "source": [
    "## Freeze"
   ]
  },
  {
   "cell_type": "code",
   "execution_count": 26,
   "id": "7ecdeb28",
   "metadata": {},
   "outputs": [],
   "source": [
    "# Let's freeze a third of the layers\n",
    "total_layers = len(feature_layers)\n",
    "num_layers_to_freeze = total_layers // 3\n",
    "\n",
    "for l in feature_layers[:num_layers_to_freeze]:\n",
    "    l.trainable = False"
   ]
  },
  {
   "cell_type": "code",
   "execution_count": 38,
   "id": "4671bb0f",
   "metadata": {},
   "outputs": [],
   "source": [
    "model_2 = Sequential(feature_layers + classification_layers)"
   ]
  },
  {
   "cell_type": "markdown",
   "id": "6bfd9fa2",
   "metadata": {},
   "source": [
    "### Show the model summary and see that the features layers (Conv2D) have been renderd untrainable now"
   ]
  },
  {
   "cell_type": "code",
   "execution_count": 40,
   "id": "5e960f6a",
   "metadata": {},
   "outputs": [
    {
     "name": "stdout",
     "output_type": "stream",
     "text": [
      "Model: \"sequential_2\"\n",
      "_________________________________________________________________\n",
      " Layer (type)                Output Shape              Param #   \n",
      "=================================================================\n",
      " conv2d (Conv2D)             (None, 144, 216, 32)      3232      \n",
      "                                                                 \n",
      " max_pooling2d (MaxPooling2D  (None, 48, 72, 32)       0         \n",
      " )                                                               \n",
      "                                                                 \n",
      " conv2d_1 (Conv2D)           (None, 24, 36, 64)        51264     \n",
      "                                                                 \n",
      " max_pooling2d_1 (MaxPooling  (None, 8, 12, 64)        0         \n",
      " 2D)                                                             \n",
      "                                                                 \n",
      " flatten (Flatten)           (None, 6144)              0         \n",
      "                                                                 \n",
      " dense (Dense)               (None, 512)               3146240   \n",
      "                                                                 \n",
      " activation (Activation)     (None, 512)               0         \n",
      "                                                                 \n",
      " batch_normalization (BatchN  (None, 512)              2048      \n",
      " ormalization)                                                   \n",
      "                                                                 \n",
      " dropout (Dropout)           (None, 512)               0         \n",
      "                                                                 \n",
      " dense_1 (Dense)             (None, 10)                5130      \n",
      "                                                                 \n",
      " activation_1 (Activation)   (None, 10)                0         \n",
      "                                                                 \n",
      "=================================================================\n",
      "Total params: 3,207,914\n",
      "Trainable params: 3,203,658\n",
      "Non-trainable params: 4,256\n",
      "_________________________________________________________________\n"
     ]
    }
   ],
   "source": [
    "model_2.summary()"
   ]
  },
  {
   "cell_type": "code",
   "execution_count": 29,
   "id": "736b760c",
   "metadata": {},
   "outputs": [],
   "source": [
    "# New data from the mel spectrograms\n",
    "# Mel spectrograms\n",
    "# Directory\n",
    "root_dir = '/Users/hannahgracesmith/Desktop/DS207_final_project/Data/mel_spectrogram_imgs'\n",
    "\n",
    "# Import the data\n",
    "image_data = []\n",
    "labels = []\n",
    "\n",
    "for folder in os.listdir(root_dir):\n",
    "    folder_path = os.path.join(root_dir, folder)\n",
    "    if os.path.isdir(folder_path):\n",
    "        for image_file in os.listdir(folder_path):\n",
    "            if image_file.endswith(('.jpg', '.png', '.jpeg')):\n",
    "                image_path = os.path.join(folder_path, image_file)\n",
    "                image = Image.open(image_path)\n",
    "                image = image.resize((432, 288))  # Resize\n",
    "                image_array = np.array(image)\n",
    "                image_data.append(image_array)\n",
    "                labels.append(folder)"
   ]
  },
  {
   "cell_type": "code",
   "execution_count": 52,
   "id": "76fd316f",
   "metadata": {},
   "outputs": [],
   "source": [
    "### Prepare the Data\n",
    "# Split the data\n",
    "X_train_mel, X_test_mel, Y_train_mel, Y_test_mel = train_test_split(np.array(image_data).astype('uint8'), labels, test_size=0.2)\n",
    "\n",
    "# Normalize the pixel values\n",
    "X_train_mel = X_train_mel / 255.0\n",
    "X_test_mel = X_test_mel / 255.0"
   ]
  },
  {
   "cell_type": "code",
   "execution_count": 53,
   "id": "1a73c464",
   "metadata": {},
   "outputs": [],
   "source": [
    "# Create and fit the label encoder\n",
    "label_encoder = LabelEncoder()\n",
    "Y_train_mel = label_encoder.fit_transform(Y_train_mel)\n",
    "Y_test_mel = label_encoder.transform(Y_test_mel)\n",
    "\n",
    "# Shuffle the training data\n",
    "np.random.seed(1)\n",
    "indices = np.arange(X_train_mel.shape[0])\n",
    "shuffled_indices = np.random.permutation(indices)\n",
    "X_train_mel = X_train_mel[shuffled_indices]\n",
    "Y_train_mel = Y_train_mel[shuffled_indices]"
   ]
  },
  {
   "cell_type": "code",
   "execution_count": 54,
   "id": "e34ca3cb",
   "metadata": {},
   "outputs": [],
   "source": [
    "from sklearn.preprocessing import OneHotEncoder\n",
    "#Create an instance of the OneHotEncoder\n",
    "encoder = OneHotEncoder(sparse=False)\n",
    "\n",
    "# Fit and transform the data\n",
    "Y_test_reshaped_mel = Y_test_mel.reshape(-1, 1)\n",
    "Y_test_onehot_mel = encoder.fit_transform(Y_test_reshaped_mel)\n",
    "\n",
    "X_test_sub_mel = X_test_mel[:150]\n",
    "Y_test_sub_mel = Y_test_mel[:150]"
   ]
  },
  {
   "cell_type": "code",
   "execution_count": 55,
   "id": "23f0740d",
   "metadata": {},
   "outputs": [
    {
     "name": "stdout",
     "output_type": "stream",
     "text": [
      "x_train shape: (799, 288, 432, 4)\n",
      "799 train samples\n",
      "150 test samples\n",
      "Epoch 1/10\n",
      "13/13 [==============================] - 17s 1s/step - loss: 0.2480 - accuracy: 0.9437 - val_loss: 7.7801 - val_accuracy: 0.2200\n",
      "Epoch 2/10\n",
      "13/13 [==============================] - 12s 946ms/step - loss: 0.1915 - accuracy: 0.9549 - val_loss: 8.7214 - val_accuracy: 0.2200\n",
      "Epoch 3/10\n",
      "13/13 [==============================] - 12s 938ms/step - loss: 0.1623 - accuracy: 0.9712 - val_loss: 6.0646 - val_accuracy: 0.2200\n",
      "Epoch 4/10\n",
      "13/13 [==============================] - 12s 894ms/step - loss: 0.1338 - accuracy: 0.9812 - val_loss: 3.3981 - val_accuracy: 0.3133\n",
      "Epoch 5/10\n",
      "13/13 [==============================] - 12s 954ms/step - loss: 0.1137 - accuracy: 0.9925 - val_loss: 2.2857 - val_accuracy: 0.4267\n",
      "Epoch 6/10\n",
      "13/13 [==============================] - 11s 869ms/step - loss: 0.1002 - accuracy: 0.9950 - val_loss: 1.8478 - val_accuracy: 0.4867\n",
      "Epoch 7/10\n",
      "13/13 [==============================] - 11s 847ms/step - loss: 0.0932 - accuracy: 0.9925 - val_loss: 1.6718 - val_accuracy: 0.5467\n",
      "Epoch 8/10\n",
      "13/13 [==============================] - 12s 907ms/step - loss: 0.0787 - accuracy: 0.9987 - val_loss: 1.1506 - val_accuracy: 0.5400\n",
      "Epoch 9/10\n",
      "13/13 [==============================] - 13s 1s/step - loss: 0.0703 - accuracy: 0.9975 - val_loss: 0.8657 - val_accuracy: 0.6533\n",
      "Epoch 10/10\n",
      "13/13 [==============================] - 10s 793ms/step - loss: 0.0653 - accuracy: 0.9975 - val_loss: 0.7194 - val_accuracy: 0.7467\n",
      "Training time: 136.36 seconds\n",
      "Test score: 0.6999846696853638\n",
      "Test accuracy: 0.7733333110809326\n"
     ]
    }
   ],
   "source": [
    "# transfer: train dense layers for new classification task\n",
    "input_shape = (288, 432, 4)\n",
    "train_model(model_2,\n",
    "            (X_train_mel, Y_train_mel),\n",
    "            (X_test_sub_mel, Y_test_sub_mel),\n",
    "            num_classes,\n",
    "            epochs=10)"
   ]
  },
  {
   "cell_type": "code",
   "execution_count": 57,
   "id": "6487b5f4",
   "metadata": {},
   "outputs": [
    {
     "name": "stdout",
     "output_type": "stream",
     "text": [
      "7/7 [==============================] - 3s 311ms/step - loss: 0.6512 - accuracy: 0.8000\n",
      "\n",
      "Test Acc. 80.00%\n"
     ]
    }
   ],
   "source": [
    "test_results = model_2.evaluate(X_test_mel, Y_test_onehot_mel)\n",
    "print('\\nTest Acc. {:.2f}%'.format(test_results[1]*100))"
   ]
  },
  {
   "cell_type": "markdown",
   "id": "865844ce",
   "metadata": {},
   "source": [
    "## Training Time"
   ]
  },
  {
   "cell_type": "code",
   "execution_count": 58,
   "id": "05f6c570",
   "metadata": {},
   "outputs": [
    {
     "data": {
      "image/png": "[encoded data removed]",
      "text/plain": [
       "<Figure size 500x300 with 1 Axes>"
      ]
     },
     "metadata": {},
     "output_type": "display_data"
    }
   ],
   "source": [
    "plt.figure(figsize=(5,3))\n",
    "plt.barh(y=['Model 1: Spectrogram','Model 2: Mel Spectrogram'],width=[1629,136],height=0.7)\n",
    "plt.xlabel(\"Time taken for training (seconds)\",fontsize=14)\n",
    "plt.yticks(fontsize=12)\n",
    "plt.xticks(fontsize=10)\n",
    "plt.show()"
   ]
  }
 ],
 "metadata": {
  "kernelspec": {
   "display_name": "Python 3 (ipykernel)",
   "language": "python",
   "name": "python3"
  },
  "language_info": {
   "codemirror_mode": {
    "name": "ipython",
    "version": 3
   },
   "file_extension": ".py",
   "mimetype": "text/x-python",
   "name": "python",
   "nbconvert_exporter": "python",
   "pygments_lexer": "ipython3",
   "version": "3.9.7"
  }
 },
 "nbformat": 4,
 "nbformat_minor": 5
}
