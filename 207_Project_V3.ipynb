{
  "nbformat": 4,
  "nbformat_minor": 0,
  "metadata": {
    "colab": {
      "provenance": []
    },
    "kernelspec": {
      "name": "python3",
      "display_name": "Python 3"
    },
    "language_info": {
      "name": "python"
    }
  },
  "cells": [
    {
      "cell_type": "code",
      "execution_count": 1,
      "metadata": {
        "id": "prONgWh3-fTy"
      },
      "outputs": [],
      "source": [
        "# import necessary libraries and packages\n",
        "import numpy as np\n",
        "import pandas as pd\n",
        "import seaborn as sns\n",
        "import matplotlib.pylab as plt\n",
        "from matplotlib import pyplot\n",
        "from sklearn.model_selection import  train_test_split\n",
        "from sklearn.preprocessing import StandardScaler\n",
        "from sklearn.linear_model import LogisticRegression\n",
        "from sklearn.metrics import accuracy_score, recall_score, precision_score, confusion_matrix\n",
        "\n",
        "# importing sys\n",
        "import sys"
      ]
    },
    {
      "cell_type": "code",
      "source": [
        "# reading spotify file\n",
        "data_file = \"Spotify-2000.csv\"\n",
        "df_spotify = pd.read_csv(data_file)\n",
        "df_spotify.head()"
      ],
      "metadata": {
        "colab": {
          "base_uri": "https://localhost:8080/",
          "height": 400
        },
        "id": "6u_UfmcDB5AM",
        "outputId": "52250875-4828-4efa-9d56-ed719fcac1f9"
      },
      "execution_count": 2,
      "outputs": [
        {
          "output_type": "execute_result",
          "data": {
            "text/plain": [
              "   Index                   Title             Artist            Top Genre  \\\n",
              "0      1                 Sunrise        Norah Jones      adult standards   \n",
              "1      2             Black Night        Deep Purple           album rock   \n",
              "2      3          Clint Eastwood           Gorillaz  alternative hip hop   \n",
              "3      4           The Pretender       Foo Fighters    alternative metal   \n",
              "4      5  Waitin' On A Sunny Day  Bruce Springsteen         classic rock   \n",
              "\n",
              "   Year  Beats Per Minute (BPM)  Energy  Danceability  Loudness (dB)  \\\n",
              "0  2004                     157      30            53            -14   \n",
              "1  2000                     135      79            50            -11   \n",
              "2  2001                     168      69            66             -9   \n",
              "3  2007                     173      96            43             -4   \n",
              "4  2002                     106      82            58             -5   \n",
              "\n",
              "   Liveness  Valence Length (Duration)  Acousticness  Speechiness  Popularity  \n",
              "0        11       68               201            94            3          71  \n",
              "1        17       81               207            17            7          39  \n",
              "2         7       52               341             2           17          69  \n",
              "3         3       37               269             0            4          76  \n",
              "4        10       87               256             1            3          59  "
            ],
            "text/html": [
              "\n",
              "  <div id=\"df-1f472109-1bfc-4cda-8c04-c0a9b860da30\" class=\"colab-df-container\">\n",
              "    <div>\n",
              "<style scoped>\n",
              "    .dataframe tbody tr th:only-of-type {\n",
              "        vertical-align: middle;\n",
              "    }\n",
              "\n",
              "    .dataframe tbody tr th {\n",
              "        vertical-align: top;\n",
              "    }\n",
              "\n",
              "    .dataframe thead th {\n",
              "        text-align: right;\n",
              "    }\n",
              "</style>\n",
              "<table border=\"1\" class=\"dataframe\">\n",
              "  <thead>\n",
              "    <tr style=\"text-align: right;\">\n",
              "      <th></th>\n",
              "      <th>Index</th>\n",
              "      <th>Title</th>\n",
              "      <th>Artist</th>\n",
              "      <th>Top Genre</th>\n",
              "      <th>Year</th>\n",
              "      <th>Beats Per Minute (BPM)</th>\n",
              "      <th>Energy</th>\n",
              "      <th>Danceability</th>\n",
              "      <th>Loudness (dB)</th>\n",
              "      <th>Liveness</th>\n",
              "      <th>Valence</th>\n",
              "      <th>Length (Duration)</th>\n",
              "      <th>Acousticness</th>\n",
              "      <th>Speechiness</th>\n",
              "      <th>Popularity</th>\n",
              "    </tr>\n",
              "  </thead>\n",
              "  <tbody>\n",
              "    <tr>\n",
              "      <th>0</th>\n",
              "      <td>1</td>\n",
              "      <td>Sunrise</td>\n",
              "      <td>Norah Jones</td>\n",
              "      <td>adult standards</td>\n",
              "      <td>2004</td>\n",
              "      <td>157</td>\n",
              "      <td>30</td>\n",
              "      <td>53</td>\n",
              "      <td>-14</td>\n",
              "      <td>11</td>\n",
              "      <td>68</td>\n",
              "      <td>201</td>\n",
              "      <td>94</td>\n",
              "      <td>3</td>\n",
              "      <td>71</td>\n",
              "    </tr>\n",
              "    <tr>\n",
              "      <th>1</th>\n",
              "      <td>2</td>\n",
              "      <td>Black Night</td>\n",
              "      <td>Deep Purple</td>\n",
              "      <td>album rock</td>\n",
              "      <td>2000</td>\n",
              "      <td>135</td>\n",
              "      <td>79</td>\n",
              "      <td>50</td>\n",
              "      <td>-11</td>\n",
              "      <td>17</td>\n",
              "      <td>81</td>\n",
              "      <td>207</td>\n",
              "      <td>17</td>\n",
              "      <td>7</td>\n",
              "      <td>39</td>\n",
              "    </tr>\n",
              "    <tr>\n",
              "      <th>2</th>\n",
              "      <td>3</td>\n",
              "      <td>Clint Eastwood</td>\n",
              "      <td>Gorillaz</td>\n",
              "      <td>alternative hip hop</td>\n",
              "      <td>2001</td>\n",
              "      <td>168</td>\n",
              "      <td>69</td>\n",
              "      <td>66</td>\n",
              "      <td>-9</td>\n",
              "      <td>7</td>\n",
              "      <td>52</td>\n",
              "      <td>341</td>\n",
              "      <td>2</td>\n",
              "      <td>17</td>\n",
              "      <td>69</td>\n",
              "    </tr>\n",
              "    <tr>\n",
              "      <th>3</th>\n",
              "      <td>4</td>\n",
              "      <td>The Pretender</td>\n",
              "      <td>Foo Fighters</td>\n",
              "      <td>alternative metal</td>\n",
              "      <td>2007</td>\n",
              "      <td>173</td>\n",
              "      <td>96</td>\n",
              "      <td>43</td>\n",
              "      <td>-4</td>\n",
              "      <td>3</td>\n",
              "      <td>37</td>\n",
              "      <td>269</td>\n",
              "      <td>0</td>\n",
              "      <td>4</td>\n",
              "      <td>76</td>\n",
              "    </tr>\n",
              "    <tr>\n",
              "      <th>4</th>\n",
              "      <td>5</td>\n",
              "      <td>Waitin' On A Sunny Day</td>\n",
              "      <td>Bruce Springsteen</td>\n",
              "      <td>classic rock</td>\n",
              "      <td>2002</td>\n",
              "      <td>106</td>\n",
              "      <td>82</td>\n",
              "      <td>58</td>\n",
              "      <td>-5</td>\n",
              "      <td>10</td>\n",
              "      <td>87</td>\n",
              "      <td>256</td>\n",
              "      <td>1</td>\n",
              "      <td>3</td>\n",
              "      <td>59</td>\n",
              "    </tr>\n",
              "  </tbody>\n",
              "</table>\n",
              "</div>\n",
              "    <div class=\"colab-df-buttons\">\n",
              "\n",
              "  <div class=\"colab-df-container\">\n",
              "    <button class=\"colab-df-convert\" onclick=\"convertToInteractive('df-1f472109-1bfc-4cda-8c04-c0a9b860da30')\"\n",
              "            title=\"Convert this dataframe to an interactive table.\"\n",
              "            style=\"display:none;\">\n",
              "\n",
              "  <svg xmlns=\"http://www.w3.org/2000/svg\" height=\"24px\" viewBox=\"0 -960 960 960\">\n",
              "    <path d=\"M120-120v-720h720v720H120Zm60-500h600v-160H180v160Zm220 220h160v-160H400v160Zm0 220h160v-160H400v160ZM180-400h160v-160H180v160Zm440 0h160v-160H620v160ZM180-180h160v-160H180v160Zm440 0h160v-160H620v160Z\"/>\n",
              "  </svg>\n",
              "    </button>\n",
              "\n",
              "  <style>\n",
              "    .colab-df-container {\n",
              "      display:flex;\n",
              "      gap: 12px;\n",
              "    }\n",
              "\n",
              "    .colab-df-convert {\n",
              "      background-color: #E8F0FE;\n",
              "      border: none;\n",
              "      border-radius: 50%;\n",
              "      cursor: pointer;\n",
              "      display: none;\n",
              "      fill: #1967D2;\n",
              "      height: 32px;\n",
              "      padding: 0 0 0 0;\n",
              "      width: 32px;\n",
              "    }\n",
              "\n",
              "    .colab-df-convert:hover {\n",
              "      background-color: #E2EBFA;\n",
              "      box-shadow: 0px 1px 2px rgba(60, 64, 67, 0.3), 0px 1px 3px 1px rgba(60, 64, 67, 0.15);\n",
              "      fill: #174EA6;\n",
              "    }\n",
              "\n",
              "    .colab-df-buttons div {\n",
              "      margin-bottom: 4px;\n",
              "    }\n",
              "\n",
              "    [theme=dark] .colab-df-convert {\n",
              "      background-color: #3B4455;\n",
              "      fill: #D2E3FC;\n",
              "    }\n",
              "\n",
              "    [theme=dark] .colab-df-convert:hover {\n",
              "      background-color: #434B5C;\n",
              "      box-shadow: 0px 1px 3px 1px rgba(0, 0, 0, 0.15);\n",
              "      filter: drop-shadow(0px 1px 2px rgba(0, 0, 0, 0.3));\n",
              "      fill: #FFFFFF;\n",
              "    }\n",
              "  </style>\n",
              "\n",
              "    <script>\n",
              "      const buttonEl =\n",
              "        document.querySelector('#df-1f472109-1bfc-4cda-8c04-c0a9b860da30 button.colab-df-convert');\n",
              "      buttonEl.style.display =\n",
              "        google.colab.kernel.accessAllowed ? 'block' : 'none';\n",
              "\n",
              "      async function convertToInteractive(key) {\n",
              "        const element = document.querySelector('#df-1f472109-1bfc-4cda-8c04-c0a9b860da30');\n",
              "        const dataTable =\n",
              "          await google.colab.kernel.invokeFunction('convertToInteractive',\n",
              "                                                    [key], {});\n",
              "        if (!dataTable) return;\n",
              "\n",
              "        const docLinkHtml = 'Like what you see? Visit the ' +\n",
              "          '<a target=\"_blank\" href=https://colab.research.google.com/notebooks/data_table.ipynb>data table notebook</a>'\n",
              "          + ' to learn more about interactive tables.';\n",
              "        element.innerHTML = '';\n",
              "        dataTable['output_type'] = 'display_data';\n",
              "        await google.colab.output.renderOutput(dataTable, element);\n",
              "        const docLink = document.createElement('div');\n",
              "        docLink.innerHTML = docLinkHtml;\n",
              "        element.appendChild(docLink);\n",
              "      }\n",
              "    </script>\n",
              "  </div>\n",
              "\n",
              "\n",
              "<div id=\"df-ae7f938d-a2c9-4572-ae0f-54e6db127bfd\">\n",
              "  <button class=\"colab-df-quickchart\" onclick=\"quickchart('df-ae7f938d-a2c9-4572-ae0f-54e6db127bfd')\"\n",
              "            title=\"Suggest charts\"\n",
              "            style=\"display:none;\">\n",
              "\n",
              "<svg xmlns=\"http://www.w3.org/2000/svg\" height=\"24px\"viewBox=\"0 0 24 24\"\n",
              "     width=\"24px\">\n",
              "    <g>\n",
              "        <path d=\"M19 3H5c-1.1 0-2 .9-2 2v14c0 1.1.9 2 2 2h14c1.1 0 2-.9 2-2V5c0-1.1-.9-2-2-2zM9 17H7v-7h2v7zm4 0h-2V7h2v10zm4 0h-2v-4h2v4z\"/>\n",
              "    </g>\n",
              "</svg>\n",
              "  </button>\n",
              "\n",
              "<style>\n",
              "  .colab-df-quickchart {\n",
              "      --bg-color: #E8F0FE;\n",
              "      --fill-color: #1967D2;\n",
              "      --hover-bg-color: #E2EBFA;\n",
              "      --hover-fill-color: #174EA6;\n",
              "      --disabled-fill-color: #AAA;\n",
              "      --disabled-bg-color: #DDD;\n",
              "  }\n",
              "\n",
              "  [theme=dark] .colab-df-quickchart {\n",
              "      --bg-color: #3B4455;\n",
              "      --fill-color: #D2E3FC;\n",
              "      --hover-bg-color: #434B5C;\n",
              "      --hover-fill-color: #FFFFFF;\n",
              "      --disabled-bg-color: #3B4455;\n",
              "      --disabled-fill-color: #666;\n",
              "  }\n",
              "\n",
              "  .colab-df-quickchart {\n",
              "    background-color: var(--bg-color);\n",
              "    border: none;\n",
              "    border-radius: 50%;\n",
              "    cursor: pointer;\n",
              "    display: none;\n",
              "    fill: var(--fill-color);\n",
              "    height: 32px;\n",
              "    padding: 0;\n",
              "    width: 32px;\n",
              "  }\n",
              "\n",
              "  .colab-df-quickchart:hover {\n",
              "    background-color: var(--hover-bg-color);\n",
              "    box-shadow: 0 1px 2px rgba(60, 64, 67, 0.3), 0 1px 3px 1px rgba(60, 64, 67, 0.15);\n",
              "    fill: var(--button-hover-fill-color);\n",
              "  }\n",
              "\n",
              "  .colab-df-quickchart-complete:disabled,\n",
              "  .colab-df-quickchart-complete:disabled:hover {\n",
              "    background-color: var(--disabled-bg-color);\n",
              "    fill: var(--disabled-fill-color);\n",
              "    box-shadow: none;\n",
              "  }\n",
              "\n",
              "  .colab-df-spinner {\n",
              "    border: 2px solid var(--fill-color);\n",
              "    border-color: transparent;\n",
              "    border-bottom-color: var(--fill-color);\n",
              "    animation:\n",
              "      spin 1s steps(1) infinite;\n",
              "  }\n",
              "\n",
              "  @keyframes spin {\n",
              "    0% {\n",
              "      border-color: transparent;\n",
              "      border-bottom-color: var(--fill-color);\n",
              "      border-left-color: var(--fill-color);\n",
              "    }\n",
              "    20% {\n",
              "      border-color: transparent;\n",
              "      border-left-color: var(--fill-color);\n",
              "      border-top-color: var(--fill-color);\n",
              "    }\n",
              "    30% {\n",
              "      border-color: transparent;\n",
              "      border-left-color: var(--fill-color);\n",
              "      border-top-color: var(--fill-color);\n",
              "      border-right-color: var(--fill-color);\n",
              "    }\n",
              "    40% {\n",
              "      border-color: transparent;\n",
              "      border-right-color: var(--fill-color);\n",
              "      border-top-color: var(--fill-color);\n",
              "    }\n",
              "    60% {\n",
              "      border-color: transparent;\n",
              "      border-right-color: var(--fill-color);\n",
              "    }\n",
              "    80% {\n",
              "      border-color: transparent;\n",
              "      border-right-color: var(--fill-color);\n",
              "      border-bottom-color: var(--fill-color);\n",
              "    }\n",
              "    90% {\n",
              "      border-color: transparent;\n",
              "      border-bottom-color: var(--fill-color);\n",
              "    }\n",
              "  }\n",
              "</style>\n",
              "\n",
              "  <script>\n",
              "    async function quickchart(key) {\n",
              "      const quickchartButtonEl =\n",
              "        document.querySelector('#' + key + ' button');\n",
              "      quickchartButtonEl.disabled = true;  // To prevent multiple clicks.\n",
              "      quickchartButtonEl.classList.add('colab-df-spinner');\n",
              "      try {\n",
              "        const charts = await google.colab.kernel.invokeFunction(\n",
              "            'suggestCharts', [key], {});\n",
              "      } catch (error) {\n",
              "        console.error('Error during call to suggestCharts:', error);\n",
              "      }\n",
              "      quickchartButtonEl.classList.remove('colab-df-spinner');\n",
              "      quickchartButtonEl.classList.add('colab-df-quickchart-complete');\n",
              "    }\n",
              "    (() => {\n",
              "      let quickchartButtonEl =\n",
              "        document.querySelector('#df-ae7f938d-a2c9-4572-ae0f-54e6db127bfd button');\n",
              "      quickchartButtonEl.style.display =\n",
              "        google.colab.kernel.accessAllowed ? 'block' : 'none';\n",
              "    })();\n",
              "  </script>\n",
              "</div>\n",
              "    </div>\n",
              "  </div>\n"
            ]
          },
          "metadata": {},
          "execution_count": 2
        }
      ]
    },
    {
      "cell_type": "code",
      "source": [
        "df_spotify.info()"
      ],
      "metadata": {
        "colab": {
          "base_uri": "https://localhost:8080/"
        },
        "id": "QeE22NqAB9eC",
        "outputId": "2c54fa38-48fa-4f14-8909-e5000cd6370d"
      },
      "execution_count": 3,
      "outputs": [
        {
          "output_type": "stream",
          "name": "stdout",
          "text": [
            "<class 'pandas.core.frame.DataFrame'>\n",
            "RangeIndex: 1994 entries, 0 to 1993\n",
            "Data columns (total 15 columns):\n",
            " #   Column                  Non-Null Count  Dtype \n",
            "---  ------                  --------------  ----- \n",
            " 0   Index                   1994 non-null   int64 \n",
            " 1   Title                   1994 non-null   object\n",
            " 2   Artist                  1994 non-null   object\n",
            " 3   Top Genre               1994 non-null   object\n",
            " 4   Year                    1994 non-null   int64 \n",
            " 5   Beats Per Minute (BPM)  1994 non-null   int64 \n",
            " 6   Energy                  1994 non-null   int64 \n",
            " 7   Danceability            1994 non-null   int64 \n",
            " 8   Loudness (dB)           1994 non-null   int64 \n",
            " 9   Liveness                1994 non-null   int64 \n",
            " 10  Valence                 1994 non-null   int64 \n",
            " 11  Length (Duration)       1994 non-null   object\n",
            " 12  Acousticness            1994 non-null   int64 \n",
            " 13  Speechiness             1994 non-null   int64 \n",
            " 14  Popularity              1994 non-null   int64 \n",
            "dtypes: int64(11), object(4)\n",
            "memory usage: 233.8+ KB\n"
          ]
        }
      ]
    },
    {
      "cell_type": "code",
      "source": [
        "df_spotify.rename(columns=lambda x: x.strip().replace(\" \", \"_\").replace('(', '').replace(')', '').lower(), inplace=True)"
      ],
      "metadata": {
        "id": "ywjBlmsTB-mL"
      },
      "execution_count": 4,
      "outputs": []
    },
    {
      "cell_type": "code",
      "source": [
        "df_spotify.top_genre.value_counts().head(10)"
      ],
      "metadata": {
        "colab": {
          "base_uri": "https://localhost:8080/"
        },
        "id": "zjempUqOOr6c",
        "outputId": "04bf5f6e-fbaf-4fc1-d8a1-76d4b9f2295c"
      },
      "execution_count": 5,
      "outputs": [
        {
          "output_type": "execute_result",
          "data": {
            "text/plain": [
              "album rock           413\n",
              "adult standards      123\n",
              "dutch pop             88\n",
              "alternative rock      86\n",
              "dance pop             83\n",
              "dutch indie           75\n",
              "alternative metal     70\n",
              "dance rock            52\n",
              "classic rock          51\n",
              "dutch cabaret         51\n",
              "Name: top_genre, dtype: int64"
            ]
          },
          "metadata": {},
          "execution_count": 5
        }
      ]
    },
    {
      "cell_type": "code",
      "source": [
        "df_spotify.top_genre = df_spotify.top_genre.str.split().str[-1]"
      ],
      "metadata": {
        "id": "pymzapb8Ol4g"
      },
      "execution_count": 6,
      "outputs": []
    },
    {
      "cell_type": "code",
      "source": [
        "df_spotify.length_duration = df_spotify.length_duration.str.replace(',', '').astype(int)"
      ],
      "metadata": {
        "id": "quokBwW1OL7X"
      },
      "execution_count": 7,
      "outputs": []
    },
    {
      "cell_type": "code",
      "source": [
        "df_spotify.top_genre.value_counts().head(10)"
      ],
      "metadata": {
        "colab": {
          "base_uri": "https://localhost:8080/"
        },
        "id": "CJ35eNO-DOuh",
        "outputId": "6de9f411-5471-45d2-9d9d-7d5516ded7ec"
      },
      "execution_count": 8,
      "outputs": [
        {
          "output_type": "execute_result",
          "data": {
            "text/plain": [
              "rock         856\n",
              "pop          333\n",
              "standards    123\n",
              "metal         93\n",
              "indie         77\n",
              "cabaret       51\n",
              "soul          45\n",
              "wave          38\n",
              "invasion      36\n",
              "hop           29\n",
              "Name: top_genre, dtype: int64"
            ]
          },
          "metadata": {},
          "execution_count": 8
        }
      ]
    },
    {
      "cell_type": "code",
      "source": [
        "df_spotify_clean = df_spotify[df_spotify.top_genre.isin(['rock','pop','standards','metal','indie','cabaret'])]"
      ],
      "metadata": {
        "id": "CZNkNBDbD1G-"
      },
      "execution_count": 9,
      "outputs": []
    },
    {
      "cell_type": "code",
      "source": [
        "df_spotify_clean.drop(columns = ['index','title', 'artist', 'year'], inplace = True)"
      ],
      "metadata": {
        "colab": {
          "base_uri": "https://localhost:8080/"
        },
        "id": "81ZjFCRtHTkN",
        "outputId": "1389841c-751d-4040-9dce-ffd7e2139053"
      },
      "execution_count": 10,
      "outputs": [
        {
          "output_type": "stream",
          "name": "stderr",
          "text": [
            "<ipython-input-10-40df79aff285>:1: SettingWithCopyWarning: \n",
            "A value is trying to be set on a copy of a slice from a DataFrame\n",
            "\n",
            "See the caveats in the documentation: https://pandas.pydata.org/pandas-docs/stable/user_guide/indexing.html#returning-a-view-versus-a-copy\n",
            "  df_spotify_clean.drop(columns = ['index','title', 'artist', 'year'], inplace = True)\n"
          ]
        }
      ]
    },
    {
      "cell_type": "code",
      "source": [
        "df_spotify_clean.head()"
      ],
      "metadata": {
        "colab": {
          "base_uri": "https://localhost:8080/",
          "height": 226
        },
        "id": "HI4-98diIGUG",
        "outputId": "a8239dd8-db03-4ddc-e815-4f9f34421537"
      },
      "execution_count": 11,
      "outputs": [
        {
          "output_type": "execute_result",
          "data": {
            "text/plain": [
              "   top_genre  beats_per_minute_bpm  energy  danceability  loudness_db  \\\n",
              "0  standards                   157      30            53          -14   \n",
              "1       rock                   135      79            50          -11   \n",
              "3      metal                   173      96            43           -4   \n",
              "4       rock                   106      82            58           -5   \n",
              "5       rock                    99      46            54           -9   \n",
              "\n",
              "   liveness  valence  length_duration  acousticness  speechiness  popularity  \n",
              "0        11       68              201            94            3          71  \n",
              "1        17       81              207            17            7          39  \n",
              "3         3       37              269             0            4          76  \n",
              "4        10       87              256             1            3          59  \n",
              "5        14       14              247             0            2          45  "
            ],
            "text/html": [
              "\n",
              "  <div id=\"df-7490962e-2aaf-49b7-a892-6964eeb8af50\" class=\"colab-df-container\">\n",
              "    <div>\n",
              "<style scoped>\n",
              "    .dataframe tbody tr th:only-of-type {\n",
              "        vertical-align: middle;\n",
              "    }\n",
              "\n",
              "    .dataframe tbody tr th {\n",
              "        vertical-align: top;\n",
              "    }\n",
              "\n",
              "    .dataframe thead th {\n",
              "        text-align: right;\n",
              "    }\n",
              "</style>\n",
              "<table border=\"1\" class=\"dataframe\">\n",
              "  <thead>\n",
              "    <tr style=\"text-align: right;\">\n",
              "      <th></th>\n",
              "      <th>top_genre</th>\n",
              "      <th>beats_per_minute_bpm</th>\n",
              "      <th>energy</th>\n",
              "      <th>danceability</th>\n",
              "      <th>loudness_db</th>\n",
              "      <th>liveness</th>\n",
              "      <th>valence</th>\n",
              "      <th>length_duration</th>\n",
              "      <th>acousticness</th>\n",
              "      <th>speechiness</th>\n",
              "      <th>popularity</th>\n",
              "    </tr>\n",
              "  </thead>\n",
              "  <tbody>\n",
              "    <tr>\n",
              "      <th>0</th>\n",
              "      <td>standards</td>\n",
              "      <td>157</td>\n",
              "      <td>30</td>\n",
              "      <td>53</td>\n",
              "      <td>-14</td>\n",
              "      <td>11</td>\n",
              "      <td>68</td>\n",
              "      <td>201</td>\n",
              "      <td>94</td>\n",
              "      <td>3</td>\n",
              "      <td>71</td>\n",
              "    </tr>\n",
              "    <tr>\n",
              "      <th>1</th>\n",
              "      <td>rock</td>\n",
              "      <td>135</td>\n",
              "      <td>79</td>\n",
              "      <td>50</td>\n",
              "      <td>-11</td>\n",
              "      <td>17</td>\n",
              "      <td>81</td>\n",
              "      <td>207</td>\n",
              "      <td>17</td>\n",
              "      <td>7</td>\n",
              "      <td>39</td>\n",
              "    </tr>\n",
              "    <tr>\n",
              "      <th>3</th>\n",
              "      <td>metal</td>\n",
              "      <td>173</td>\n",
              "      <td>96</td>\n",
              "      <td>43</td>\n",
              "      <td>-4</td>\n",
              "      <td>3</td>\n",
              "      <td>37</td>\n",
              "      <td>269</td>\n",
              "      <td>0</td>\n",
              "      <td>4</td>\n",
              "      <td>76</td>\n",
              "    </tr>\n",
              "    <tr>\n",
              "      <th>4</th>\n",
              "      <td>rock</td>\n",
              "      <td>106</td>\n",
              "      <td>82</td>\n",
              "      <td>58</td>\n",
              "      <td>-5</td>\n",
              "      <td>10</td>\n",
              "      <td>87</td>\n",
              "      <td>256</td>\n",
              "      <td>1</td>\n",
              "      <td>3</td>\n",
              "      <td>59</td>\n",
              "    </tr>\n",
              "    <tr>\n",
              "      <th>5</th>\n",
              "      <td>rock</td>\n",
              "      <td>99</td>\n",
              "      <td>46</td>\n",
              "      <td>54</td>\n",
              "      <td>-9</td>\n",
              "      <td>14</td>\n",
              "      <td>14</td>\n",
              "      <td>247</td>\n",
              "      <td>0</td>\n",
              "      <td>2</td>\n",
              "      <td>45</td>\n",
              "    </tr>\n",
              "  </tbody>\n",
              "</table>\n",
              "</div>\n",
              "    <div class=\"colab-df-buttons\">\n",
              "\n",
              "  <div class=\"colab-df-container\">\n",
              "    <button class=\"colab-df-convert\" onclick=\"convertToInteractive('df-7490962e-2aaf-49b7-a892-6964eeb8af50')\"\n",
              "            title=\"Convert this dataframe to an interactive table.\"\n",
              "            style=\"display:none;\">\n",
              "\n",
              "  <svg xmlns=\"http://www.w3.org/2000/svg\" height=\"24px\" viewBox=\"0 -960 960 960\">\n",
              "    <path d=\"M120-120v-720h720v720H120Zm60-500h600v-160H180v160Zm220 220h160v-160H400v160Zm0 220h160v-160H400v160ZM180-400h160v-160H180v160Zm440 0h160v-160H620v160ZM180-180h160v-160H180v160Zm440 0h160v-160H620v160Z\"/>\n",
              "  </svg>\n",
              "    </button>\n",
              "\n",
              "  <style>\n",
              "    .colab-df-container {\n",
              "      display:flex;\n",
              "      gap: 12px;\n",
              "    }\n",
              "\n",
              "    .colab-df-convert {\n",
              "      background-color: #E8F0FE;\n",
              "      border: none;\n",
              "      border-radius: 50%;\n",
              "      cursor: pointer;\n",
              "      display: none;\n",
              "      fill: #1967D2;\n",
              "      height: 32px;\n",
              "      padding: 0 0 0 0;\n",
              "      width: 32px;\n",
              "    }\n",
              "\n",
              "    .colab-df-convert:hover {\n",
              "      background-color: #E2EBFA;\n",
              "      box-shadow: 0px 1px 2px rgba(60, 64, 67, 0.3), 0px 1px 3px 1px rgba(60, 64, 67, 0.15);\n",
              "      fill: #174EA6;\n",
              "    }\n",
              "\n",
              "    .colab-df-buttons div {\n",
              "      margin-bottom: 4px;\n",
              "    }\n",
              "\n",
              "    [theme=dark] .colab-df-convert {\n",
              "      background-color: #3B4455;\n",
              "      fill: #D2E3FC;\n",
              "    }\n",
              "\n",
              "    [theme=dark] .colab-df-convert:hover {\n",
              "      background-color: #434B5C;\n",
              "      box-shadow: 0px 1px 3px 1px rgba(0, 0, 0, 0.15);\n",
              "      filter: drop-shadow(0px 1px 2px rgba(0, 0, 0, 0.3));\n",
              "      fill: #FFFFFF;\n",
              "    }\n",
              "  </style>\n",
              "\n",
              "    <script>\n",
              "      const buttonEl =\n",
              "        document.querySelector('#df-7490962e-2aaf-49b7-a892-6964eeb8af50 button.colab-df-convert');\n",
              "      buttonEl.style.display =\n",
              "        google.colab.kernel.accessAllowed ? 'block' : 'none';\n",
              "\n",
              "      async function convertToInteractive(key) {\n",
              "        const element = document.querySelector('#df-7490962e-2aaf-49b7-a892-6964eeb8af50');\n",
              "        const dataTable =\n",
              "          await google.colab.kernel.invokeFunction('convertToInteractive',\n",
              "                                                    [key], {});\n",
              "        if (!dataTable) return;\n",
              "\n",
              "        const docLinkHtml = 'Like what you see? Visit the ' +\n",
              "          '<a target=\"_blank\" href=https://colab.research.google.com/notebooks/data_table.ipynb>data table notebook</a>'\n",
              "          + ' to learn more about interactive tables.';\n",
              "        element.innerHTML = '';\n",
              "        dataTable['output_type'] = 'display_data';\n",
              "        await google.colab.output.renderOutput(dataTable, element);\n",
              "        const docLink = document.createElement('div');\n",
              "        docLink.innerHTML = docLinkHtml;\n",
              "        element.appendChild(docLink);\n",
              "      }\n",
              "    </script>\n",
              "  </div>\n",
              "\n",
              "\n",
              "<div id=\"df-b105e0d3-f19e-43a3-9d6a-926029cf7295\">\n",
              "  <button class=\"colab-df-quickchart\" onclick=\"quickchart('df-b105e0d3-f19e-43a3-9d6a-926029cf7295')\"\n",
              "            title=\"Suggest charts\"\n",
              "            style=\"display:none;\">\n",
              "\n",
              "<svg xmlns=\"http://www.w3.org/2000/svg\" height=\"24px\"viewBox=\"0 0 24 24\"\n",
              "     width=\"24px\">\n",
              "    <g>\n",
              "        <path d=\"M19 3H5c-1.1 0-2 .9-2 2v14c0 1.1.9 2 2 2h14c1.1 0 2-.9 2-2V5c0-1.1-.9-2-2-2zM9 17H7v-7h2v7zm4 0h-2V7h2v10zm4 0h-2v-4h2v4z\"/>\n",
              "    </g>\n",
              "</svg>\n",
              "  </button>\n",
              "\n",
              "<style>\n",
              "  .colab-df-quickchart {\n",
              "      --bg-color: #E8F0FE;\n",
              "      --fill-color: #1967D2;\n",
              "      --hover-bg-color: #E2EBFA;\n",
              "      --hover-fill-color: #174EA6;\n",
              "      --disabled-fill-color: #AAA;\n",
              "      --disabled-bg-color: #DDD;\n",
              "  }\n",
              "\n",
              "  [theme=dark] .colab-df-quickchart {\n",
              "      --bg-color: #3B4455;\n",
              "      --fill-color: #D2E3FC;\n",
              "      --hover-bg-color: #434B5C;\n",
              "      --hover-fill-color: #FFFFFF;\n",
              "      --disabled-bg-color: #3B4455;\n",
              "      --disabled-fill-color: #666;\n",
              "  }\n",
              "\n",
              "  .colab-df-quickchart {\n",
              "    background-color: var(--bg-color);\n",
              "    border: none;\n",
              "    border-radius: 50%;\n",
              "    cursor: pointer;\n",
              "    display: none;\n",
              "    fill: var(--fill-color);\n",
              "    height: 32px;\n",
              "    padding: 0;\n",
              "    width: 32px;\n",
              "  }\n",
              "\n",
              "  .colab-df-quickchart:hover {\n",
              "    background-color: var(--hover-bg-color);\n",
              "    box-shadow: 0 1px 2px rgba(60, 64, 67, 0.3), 0 1px 3px 1px rgba(60, 64, 67, 0.15);\n",
              "    fill: var(--button-hover-fill-color);\n",
              "  }\n",
              "\n",
              "  .colab-df-quickchart-complete:disabled,\n",
              "  .colab-df-quickchart-complete:disabled:hover {\n",
              "    background-color: var(--disabled-bg-color);\n",
              "    fill: var(--disabled-fill-color);\n",
              "    box-shadow: none;\n",
              "  }\n",
              "\n",
              "  .colab-df-spinner {\n",
              "    border: 2px solid var(--fill-color);\n",
              "    border-color: transparent;\n",
              "    border-bottom-color: var(--fill-color);\n",
              "    animation:\n",
              "      spin 1s steps(1) infinite;\n",
              "  }\n",
              "\n",
              "  @keyframes spin {\n",
              "    0% {\n",
              "      border-color: transparent;\n",
              "      border-bottom-color: var(--fill-color);\n",
              "      border-left-color: var(--fill-color);\n",
              "    }\n",
              "    20% {\n",
              "      border-color: transparent;\n",
              "      border-left-color: var(--fill-color);\n",
              "      border-top-color: var(--fill-color);\n",
              "    }\n",
              "    30% {\n",
              "      border-color: transparent;\n",
              "      border-left-color: var(--fill-color);\n",
              "      border-top-color: var(--fill-color);\n",
              "      border-right-color: var(--fill-color);\n",
              "    }\n",
              "    40% {\n",
              "      border-color: transparent;\n",
              "      border-right-color: var(--fill-color);\n",
              "      border-top-color: var(--fill-color);\n",
              "    }\n",
              "    60% {\n",
              "      border-color: transparent;\n",
              "      border-right-color: var(--fill-color);\n",
              "    }\n",
              "    80% {\n",
              "      border-color: transparent;\n",
              "      border-right-color: var(--fill-color);\n",
              "      border-bottom-color: var(--fill-color);\n",
              "    }\n",
              "    90% {\n",
              "      border-color: transparent;\n",
              "      border-bottom-color: var(--fill-color);\n",
              "    }\n",
              "  }\n",
              "</style>\n",
              "\n",
              "  <script>\n",
              "    async function quickchart(key) {\n",
              "      const quickchartButtonEl =\n",
              "        document.querySelector('#' + key + ' button');\n",
              "      quickchartButtonEl.disabled = true;  // To prevent multiple clicks.\n",
              "      quickchartButtonEl.classList.add('colab-df-spinner');\n",
              "      try {\n",
              "        const charts = await google.colab.kernel.invokeFunction(\n",
              "            'suggestCharts', [key], {});\n",
              "      } catch (error) {\n",
              "        console.error('Error during call to suggestCharts:', error);\n",
              "      }\n",
              "      quickchartButtonEl.classList.remove('colab-df-spinner');\n",
              "      quickchartButtonEl.classList.add('colab-df-quickchart-complete');\n",
              "    }\n",
              "    (() => {\n",
              "      let quickchartButtonEl =\n",
              "        document.querySelector('#df-b105e0d3-f19e-43a3-9d6a-926029cf7295 button');\n",
              "      quickchartButtonEl.style.display =\n",
              "        google.colab.kernel.accessAllowed ? 'block' : 'none';\n",
              "    })();\n",
              "  </script>\n",
              "</div>\n",
              "    </div>\n",
              "  </div>\n"
            ]
          },
          "metadata": {},
          "execution_count": 11
        }
      ]
    },
    {
      "cell_type": "code",
      "source": [
        "plt.figure(figsize=(20,7))\n",
        "sns.heatmap(df_spotify_clean.corr(), annot=True, cmap='RdYlGn')"
      ],
      "metadata": {
        "colab": {
          "base_uri": "https://localhost:8080/",
          "height": 467
        },
        "id": "faN2B5L3JWNl",
        "outputId": "4b7e8686-e180-439b-95dd-d8412a7513db"
      },
      "execution_count": 12,
      "outputs": [
        {
          "output_type": "stream",
          "name": "stderr",
          "text": [
            "<ipython-input-12-0b68d31fb973>:2: FutureWarning: The default value of numeric_only in DataFrame.corr is deprecated. In a future version, it will default to False. Select only valid columns or specify the value of numeric_only to silence this warning.\n",
            "  sns.heatmap(df_spotify_clean.corr(), annot=True, cmap='RdYlGn')\n"
          ]
        },
        {
          "output_type": "execute_result",
          "data": {
            "text/plain": [
              "<Axes: >"
            ]
          },
          "metadata": {},
          "execution_count": 12
        },
        {
          "output_type": "display_data",
          "data": {
            "text/plain": [
              "<Figure size 2000x700 with 2 Axes>"
            ],
            "image/png": "[encoded data removed]"
          },
          "metadata": {}
        }
      ]
    },
    {
      "cell_type": "code",
      "source": [
        "columns_to_plot = df_spotify_clean.columns[1:]\n",
        "\n",
        "num_plots = len(columns_to_plot)\n",
        "num_rows = 2\n",
        "num_cols = (num_plots + 1) // num_rows\n",
        "\n",
        "fig, axes = plt.subplots(nrows=num_rows, ncols=num_cols, figsize=(15, 10))\n",
        "axes = axes.flatten()\n",
        "\n",
        "for i, column in enumerate(columns_to_plot):\n",
        "    df_spotify_clean[column].plot(kind='hist', ax=axes[i], title=column)\n",
        "    axes[i].set_xlabel(column)\n",
        "\n",
        "plt.tight_layout()\n",
        "plt.show()"
      ],
      "metadata": {
        "colab": {
          "base_uri": "https://localhost:8080/",
          "height": 692
        },
        "id": "AsnVzCl3zHH7",
        "outputId": "c91a5e19-81fd-400b-c0a6-ba03d10f4413"
      },
      "execution_count": 13,
      "outputs": [
        {
          "output_type": "display_data",
          "data": {
            "text/plain": [
              "<Figure size 1500x1000 with 10 Axes>"
            ],
            "image/png": "[encoded data removed]"
          },
          "metadata": {}
        }
      ]
    },
    {
      "cell_type": "code",
      "source": [
        "train, test = train_test_split(df_spotify_clean, test_size = 0.2, random_state = 1)\n",
        "# training set\n",
        "x_train = train.values[:,1:]\n",
        "y_train = train.values[:,0]\n",
        "\n",
        "# test set\n",
        "x_test = test.values[:,1:]\n",
        "y_test = test.values[:,0]"
      ],
      "metadata": {
        "id": "iSOUVwvrIRVM"
      },
      "execution_count": 14,
      "outputs": []
    },
    {
      "cell_type": "code",
      "source": [
        "standard_scaler = StandardScaler().fit(x_train)\n",
        "\n",
        "# Standard Scaler\n",
        "x_train_SS = standard_scaler.transform(x_train)\n",
        "x_test_SS = standard_scaler.transform(x_test)"
      ],
      "metadata": {
        "id": "9NWMWQ9cIzeL"
      },
      "execution_count": 15,
      "outputs": []
    },
    {
      "cell_type": "markdown",
      "source": [
        "Baseline"
      ],
      "metadata": {
        "id": "wyNvSkJ01slp"
      }
    },
    {
      "cell_type": "code",
      "source": [
        "print ('total: %3d  correct: %3d  accuracy: %3.2f' %(len(y_test), sum(1 if i == 'rock' else 0 for i in y_test),\n",
        "                                                     1.0*sum(1 if i == 'rock' else 0 for i in y_test)/len(y_test)))"
      ],
      "metadata": {
        "colab": {
          "base_uri": "https://localhost:8080/"
        },
        "id": "p-qBliPd1rHQ",
        "outputId": "3855a2df-04c9-4cbd-e3f8-bb33647a60fb"
      },
      "execution_count": 16,
      "outputs": [
        {
          "output_type": "stream",
          "name": "stdout",
          "text": [
            "total: 307  correct: 179  accuracy: 0.58\n"
          ]
        }
      ]
    },
    {
      "cell_type": "markdown",
      "source": [
        "Logistic Regression"
      ],
      "metadata": {
        "id": "HB26wX231w0T"
      }
    },
    {
      "cell_type": "code",
      "source": [
        "classifier = LogisticRegression(solver='lbfgs', multi_class='auto')\n",
        "classifier.fit(x_train_SS, y_train)"
      ],
      "metadata": {
        "colab": {
          "base_uri": "https://localhost:8080/",
          "height": 75
        },
        "id": "B59Hr4fcPAn4",
        "outputId": "6b47faf8-dbf9-4dde-b0df-46b41075cd1b"
      },
      "execution_count": 17,
      "outputs": [
        {
          "output_type": "execute_result",
          "data": {
            "text/plain": [
              "LogisticRegression()"
            ],
            "text/html": [
              "<style>#sk-container-id-1 {color: black;background-color: white;}#sk-container-id-1 pre{padding: 0;}#sk-container-id-1 div.sk-toggleable {background-color: white;}#sk-container-id-1 label.sk-toggleable__label {cursor: pointer;display: block;width: 100%;margin-bottom: 0;padding: 0.3em;box-sizing: border-box;text-align: center;}#sk-container-id-1 label.sk-toggleable__label-arrow:before {content: \"▸\";float: left;margin-right: 0.25em;color: #696969;}#sk-container-id-1 label.sk-toggleable__label-arrow:hover:before {color: black;}#sk-container-id-1 div.sk-estimator:hover label.sk-toggleable__label-arrow:before {color: black;}#sk-container-id-1 div.sk-toggleable__content {max-height: 0;max-width: 0;overflow: hidden;text-align: left;background-color: #f0f8ff;}#sk-container-id-1 div.sk-toggleable__content pre {margin: 0.2em;color: black;border-radius: 0.25em;background-color: #f0f8ff;}#sk-container-id-1 input.sk-toggleable__control:checked~div.sk-toggleable__content {max-height: 200px;max-width: 100%;overflow: auto;}#sk-container-id-1 input.sk-toggleable__control:checked~label.sk-toggleable__label-arrow:before {content: \"▾\";}#sk-container-id-1 div.sk-estimator input.sk-toggleable__control:checked~label.sk-toggleable__label {background-color: #d4ebff;}#sk-container-id-1 div.sk-label input.sk-toggleable__control:checked~label.sk-toggleable__label {background-color: #d4ebff;}#sk-container-id-1 input.sk-hidden--visually {border: 0;clip: rect(1px 1px 1px 1px);clip: rect(1px, 1px, 1px, 1px);height: 1px;margin: -1px;overflow: hidden;padding: 0;position: absolute;width: 1px;}#sk-container-id-1 div.sk-estimator {font-family: monospace;background-color: #f0f8ff;border: 1px dotted black;border-radius: 0.25em;box-sizing: border-box;margin-bottom: 0.5em;}#sk-container-id-1 div.sk-estimator:hover {background-color: #d4ebff;}#sk-container-id-1 div.sk-parallel-item::after {content: \"\";width: 100%;border-bottom: 1px solid gray;flex-grow: 1;}#sk-container-id-1 div.sk-label:hover label.sk-toggleable__label {background-color: #d4ebff;}#sk-container-id-1 div.sk-serial::before {content: \"\";position: absolute;border-left: 1px solid gray;box-sizing: border-box;top: 0;bottom: 0;left: 50%;z-index: 0;}#sk-container-id-1 div.sk-serial {display: flex;flex-direction: column;align-items: center;background-color: white;padding-right: 0.2em;padding-left: 0.2em;position: relative;}#sk-container-id-1 div.sk-item {position: relative;z-index: 1;}#sk-container-id-1 div.sk-parallel {display: flex;align-items: stretch;justify-content: center;background-color: white;position: relative;}#sk-container-id-1 div.sk-item::before, #sk-container-id-1 div.sk-parallel-item::before {content: \"\";position: absolute;border-left: 1px solid gray;box-sizing: border-box;top: 0;bottom: 0;left: 50%;z-index: -1;}#sk-container-id-1 div.sk-parallel-item {display: flex;flex-direction: column;z-index: 1;position: relative;background-color: white;}#sk-container-id-1 div.sk-parallel-item:first-child::after {align-self: flex-end;width: 50%;}#sk-container-id-1 div.sk-parallel-item:last-child::after {align-self: flex-start;width: 50%;}#sk-container-id-1 div.sk-parallel-item:only-child::after {width: 0;}#sk-container-id-1 div.sk-dashed-wrapped {border: 1px dashed gray;margin: 0 0.4em 0.5em 0.4em;box-sizing: border-box;padding-bottom: 0.4em;background-color: white;}#sk-container-id-1 div.sk-label label {font-family: monospace;font-weight: bold;display: inline-block;line-height: 1.2em;}#sk-container-id-1 div.sk-label-container {text-align: center;}#sk-container-id-1 div.sk-container {/* jupyter's `normalize.less` sets `[hidden] { display: none; }` but bootstrap.min.css set `[hidden] { display: none !important; }` so we also need the `!important` here to be able to override the default hidden behavior on the sphinx rendered scikit-learn.org. See: https://github.com/scikit-learn/scikit-learn/issues/21755 */display: inline-block !important;position: relative;}#sk-container-id-1 div.sk-text-repr-fallback {display: none;}</style><div id=\"sk-container-id-1\" class=\"sk-top-container\"><div class=\"sk-text-repr-fallback\"><pre>LogisticRegression()</pre><b>In a Jupyter environment, please rerun this cell to show the HTML representation or trust the notebook. <br />On GitHub, the HTML representation is unable to render, please try loading this page with nbviewer.org.</b></div><div class=\"sk-container\" hidden><div class=\"sk-item\"><div class=\"sk-estimator sk-toggleable\"><input class=\"sk-toggleable__control sk-hidden--visually\" id=\"sk-estimator-id-1\" type=\"checkbox\" checked><label for=\"sk-estimator-id-1\" class=\"sk-toggleable__label sk-toggleable__label-arrow\">LogisticRegression</label><div class=\"sk-toggleable__content\"><pre>LogisticRegression()</pre></div></div></div></div></div>"
            ]
          },
          "metadata": {},
          "execution_count": 17
        }
      ]
    },
    {
      "cell_type": "code",
      "source": [
        "# Predicting the Test set results\n",
        "y_pred = classifier.predict(x_test)\n",
        "# Predict probabilities\n",
        "probs_y=classifier.predict_proba(x_test)\n",
        "probs_y = np.round(probs_y, 2)"
      ],
      "metadata": {
        "id": "5XMPgCeySIAx"
      },
      "execution_count": 18,
      "outputs": []
    },
    {
      "cell_type": "code",
      "source": [
        "# Calculate metrics\n",
        "accuracy = accuracy_score(y_test, y_pred)\n",
        "precision = precision_score(y_test, y_pred, average='weighted')\n",
        "recall = recall_score(y_test, y_pred, average='weighted')\n",
        "conf_matrix = confusion_matrix(y_test, y_pred)\n",
        "\n",
        "print(f'Accuracy: {accuracy}')\n",
        "print(f'Recall: {recall}')\n",
        "print(f'Precision: {precision}')\n",
        "print(conf_matrix)"
      ],
      "metadata": {
        "colab": {
          "base_uri": "https://localhost:8080/"
        },
        "id": "V1cVIrvSVhVV",
        "outputId": "71049c9d-5275-46a1-dd6e-09c9f9288e61"
      },
      "execution_count": 19,
      "outputs": [
        {
          "output_type": "stream",
          "name": "stdout",
          "text": [
            "Accuracy: 0.40716612377850164\n",
            "Recall: 0.40716612377850164\n",
            "Precision: 0.32617742470344246\n",
            "[[  0   0   1   0   6   0]\n",
            " [  0   0   1   0  16   0]\n",
            " [  0   0  17   0   2   0]\n",
            " [  0   0  17   0  49   0]\n",
            " [  0   0  71   0 108   0]\n",
            " [  0   0   1   0  18   0]]\n"
          ]
        },
        {
          "output_type": "stream",
          "name": "stderr",
          "text": [
            "/usr/local/lib/python3.10/dist-packages/sklearn/metrics/_classification.py:1344: UndefinedMetricWarning: Precision is ill-defined and being set to 0.0 in labels with no predicted samples. Use `zero_division` parameter to control this behavior.\n",
            "  _warn_prf(average, modifier, msg_start, len(result))\n"
          ]
        }
      ]
    },
    {
      "cell_type": "markdown",
      "source": [
        "Nearest Neighbour"
      ],
      "metadata": {
        "id": "lVVWS_Cc12uZ"
      }
    },
    {
      "cell_type": "code",
      "source": [
        "def EuclideanDistance(v1, v2):\n",
        "    sum = 0.0\n",
        "    for index in range(len(v1)):\n",
        "        sum += (v1[index] - v2[index]) ** 2\n",
        "    return sum ** 0.5"
      ],
      "metadata": {
        "id": "aDpynhWj0A7O"
      },
      "execution_count": 20,
      "outputs": []
    },
    {
      "cell_type": "code",
      "source": [
        "dists = []\n",
        "for i in range(len(x_train_SS) - 1):\n",
        "    for j in range(i + 1, len(x_train_SS)):\n",
        "        dist = EuclideanDistance(x_train_SS[i], x_train_SS[j])\n",
        "        dists.append(dist)\n",
        "\n",
        "fig = plt.hist(dists, 100)"
      ],
      "metadata": {
        "colab": {
          "base_uri": "https://localhost:8080/",
          "height": 430
        },
        "id": "clQsxwbo0edj",
        "outputId": "2f2e5722-4d28-465f-9351-40edb1554cda"
      },
      "execution_count": 21,
      "outputs": [
        {
          "output_type": "display_data",
          "data": {
            "text/plain": [
              "<Figure size 640x480 with 1 Axes>"
            ],
            "image/png": "[encoded data removed]"
          },
          "metadata": {}
        }
      ]
    },
    {
      "cell_type": "code",
      "source": [
        "class NearestNeighbors:\n",
        "    # Initialize an instance of the class.\n",
        "    def __init__(self, metric=EuclideanDistance):\n",
        "        self.metric = metric\n",
        "\n",
        "    # No training for Nearest Neighbors. Just store the data.\n",
        "    def fit(self, train_data, train_labels):\n",
        "        self.train_data = train_data\n",
        "        self.train_labels = train_labels\n",
        "\n",
        "    # Make predictions for each test example and return results.\n",
        "    def predict(self, test_data):\n",
        "        results = []\n",
        "        for item in test_data:\n",
        "            results.append(self._predict_item(item))\n",
        "        return results\n",
        "\n",
        "    # Private function for making a single prediction.\n",
        "    def _predict_item(self, item):\n",
        "        best_dist, best_label = 1.0e10, None\n",
        "        for i in range(len(self.train_data)):\n",
        "            dist = self.metric(self.train_data[i], item)\n",
        "            if dist < best_dist:\n",
        "                best_label = self.train_labels[i]\n",
        "                best_dist = dist\n",
        "        return best_label"
      ],
      "metadata": {
        "id": "mHHBmAcO03mC"
      },
      "execution_count": 22,
      "outputs": []
    },
    {
      "cell_type": "code",
      "source": [
        "clf = NearestNeighbors()\n",
        "clf.fit(x_train_SS, y_train)\n",
        "preds = clf.predict(x_test_SS)\n",
        "\n",
        "correct, total = 0, 0\n",
        "for pred, label in zip(preds, y_test):\n",
        "    if pred == label: correct += 1\n",
        "    total += 1\n",
        "print ('total: %3d  correct: %3d  accuracy: %3.2f' %(total, correct, 1.0*correct/total))"
      ],
      "metadata": {
        "colab": {
          "base_uri": "https://localhost:8080/"
        },
        "id": "Y8TVouhz0-ER",
        "outputId": "e86827a9-2fd0-4da5-dd5a-61acbfc65f32"
      },
      "execution_count": 23,
      "outputs": [
        {
          "output_type": "stream",
          "name": "stdout",
          "text": [
            "total: 307  correct: 154  accuracy: 0.50\n"
          ]
        }
      ]
    },
    {
      "cell_type": "code",
      "source": [
        "# Calculate metrics\n",
        "accuracy = accuracy_score(y_test, preds)\n",
        "precision = precision_score(y_test, preds, average='weighted')\n",
        "recall = recall_score(y_test, preds, average='weighted')\n",
        "conf_matrix = confusion_matrix(y_test, preds)\n",
        "\n",
        "print(f'Accuracy: {accuracy}')\n",
        "print(f'Recall: {recall}')\n",
        "print(f'Precision: {precision}')\n",
        "print(conf_matrix)"
      ],
      "metadata": {
        "colab": {
          "base_uri": "https://localhost:8080/"
        },
        "id": "cxvB0aKo1GSY",
        "outputId": "7b8ba76a-e422-4cbc-f0de-4284e4784092"
      },
      "execution_count": 24,
      "outputs": [
        {
          "output_type": "stream",
          "name": "stdout",
          "text": [
            "Accuracy: 0.501628664495114\n",
            "Recall: 0.501628664495114\n",
            "Precision: 0.509918660893787\n",
            "[[  0   0   0   0   7   0]\n",
            " [  0   5   0   3   8   1]\n",
            " [  0   0   6   3   9   1]\n",
            " [  3   3   4  23  31   2]\n",
            " [  9   4  15  26 115  10]\n",
            " [  0   0   0   3  11   5]]\n"
          ]
        }
      ]
    },
    {
      "cell_type": "markdown",
      "source": [
        "Random Forest"
      ],
      "metadata": {
        "id": "RQOQ3gVb209f"
      }
    },
    {
      "cell_type": "code",
      "source": [
        "from sklearn.ensemble import RandomForestClassifier\n",
        "rand_forest = RandomForestClassifier()"
      ],
      "metadata": {
        "id": "njvv4Brc20C2"
      },
      "execution_count": 25,
      "outputs": []
    },
    {
      "cell_type": "code",
      "source": [
        "from sklearn.preprocessing import label_binarize\n",
        "from sklearn.preprocessing import LabelEncoder\n",
        "\n",
        "unique = np.unique(y_train)\n",
        "\n",
        "y_test_1hot = label_binarize(y_test, classes = unique)\n",
        "y_train_1hot = label_binarize(y_train, classes = unique)\n",
        "\n",
        "# labelling\n",
        "y_test_label = LabelEncoder()"
      ],
      "metadata": {
        "id": "KrptXbep5Sjo"
      },
      "execution_count": 26,
      "outputs": []
    },
    {
      "cell_type": "code",
      "source": [
        "from sklearn.model_selection import cross_val_score\n",
        "from sklearn.model_selection import cross_val_predict\n",
        "\n",
        "RF_cross_val_score = cross_val_score(rand_forest, x_train_SS, y_train_1hot, cv = 10, scoring = 'accuracy')\n",
        "y_pred = cross_val_predict(rand_forest, x_test_SS, y_test_1hot, cv=10)\n",
        "print('%s: %f (%f)' % ('Random Forest', RF_cross_val_score.mean(), RF_cross_val_score.std()))"
      ],
      "metadata": {
        "colab": {
          "base_uri": "https://localhost:8080/"
        },
        "id": "aZVHohcX40c0",
        "outputId": "efc20ff2-88f2-4e9b-9502-89fec3e46731"
      },
      "execution_count": 27,
      "outputs": [
        {
          "output_type": "stream",
          "name": "stdout",
          "text": [
            "Random Forest: 0.401339 (0.047830)\n"
          ]
        }
      ]
    },
    {
      "cell_type": "code",
      "source": [
        "# Calculate metrics\n",
        "accuracy = accuracy_score(y_test_1hot, y_pred)\n",
        "precision = precision_score(y_test_1hot, y_pred, average='weighted')\n",
        "recall = recall_score(y_test_1hot, y_pred, average='weighted')\n",
        "#conf_matrix = confusion_matrix(y_test_1hot, y_pred)\n",
        "\n",
        "print(f'Accuracy: {accuracy}')\n",
        "print(f'Recall: {recall}')\n",
        "print(f'Precision: {precision}')\n",
        "print(conf_matrix)"
      ],
      "metadata": {
        "colab": {
          "base_uri": "https://localhost:8080/"
        },
        "id": "xai6wmPc1cd-",
        "outputId": "f0bde97d-bbec-4a40-c3a0-cb5bb47030fc"
      },
      "execution_count": 28,
      "outputs": [
        {
          "output_type": "stream",
          "name": "stdout",
          "text": [
            "Accuracy: 0.42996742671009774\n",
            "Recall: 0.42996742671009774\n",
            "Precision: 0.5314931103574106\n",
            "[[  0   0   0   0   7   0]\n",
            " [  0   5   0   3   8   1]\n",
            " [  0   0   6   3   9   1]\n",
            " [  3   3   4  23  31   2]\n",
            " [  9   4  15  26 115  10]\n",
            " [  0   0   0   3  11   5]]\n"
          ]
        },
        {
          "output_type": "stream",
          "name": "stderr",
          "text": [
            "/usr/local/lib/python3.10/dist-packages/sklearn/metrics/_classification.py:1344: UndefinedMetricWarning: Precision is ill-defined and being set to 0.0 in labels with no predicted samples. Use `zero_division` parameter to control this behavior.\n",
            "  _warn_prf(average, modifier, msg_start, len(result))\n"
          ]
        }
      ]
    },
    {
      "cell_type": "markdown",
      "source": [
        "Neural Net"
      ],
      "metadata": {
        "id": "8fbiIY6w506H"
      }
    },
    {
      "cell_type": "code",
      "source": [
        "from sklearn.neural_network import MLPClassifier\n",
        "nn = MLPClassifier(solver='lbfgs', alpha=1e-5, hidden_layer_sizes=(5000, 10), random_state=1)\n",
        "nn.fit(x_train_SS, y_train)\n",
        "preds = nn.predict(x_test_SS)\n",
        "print('Accuracy:', round(accuracy_score(y_test, preds), 5), '\\n')"
      ],
      "metadata": {
        "id": "kXsOMPPw55ZO",
        "colab": {
          "base_uri": "https://localhost:8080/"
        },
        "outputId": "3be351cf-d376-477c-eee0-e4decded4710"
      },
      "execution_count": 29,
      "outputs": [
        {
          "output_type": "stream",
          "name": "stdout",
          "text": [
            "Accuracy: 0.45603 \n",
            "\n"
          ]
        },
        {
          "output_type": "stream",
          "name": "stderr",
          "text": [
            "/usr/local/lib/python3.10/dist-packages/sklearn/neural_network/_multilayer_perceptron.py:541: ConvergenceWarning: lbfgs failed to converge (status=1):\n",
            "STOP: TOTAL NO. of ITERATIONS REACHED LIMIT.\n",
            "\n",
            "Increase the number of iterations (max_iter) or scale the data as shown in:\n",
            "    https://scikit-learn.org/stable/modules/preprocessing.html\n",
            "  self.n_iter_ = _check_optimize_result(\"lbfgs\", opt_res, self.max_iter)\n"
          ]
        }
      ]
    },
    {
      "cell_type": "markdown",
      "source": [
        "SMOTE"
      ],
      "metadata": {
        "id": "ORm3HD8QRdWD"
      }
    },
    {
      "cell_type": "code",
      "source": [
        "from imblearn.over_sampling import SMOTE\n",
        "oversample = SMOTE()\n",
        "x_smote,y_smote = oversample.fit_resample(x_train_SS,y_train)\n",
        "\n",
        "unique = np.unique(y_smote)\n",
        "\n",
        "y_smote_1hot = label_binarize(y_smote, classes = unique)\n",
        "\n",
        "# labelling\n",
        "y_smote_label = LabelEncoder()"
      ],
      "metadata": {
        "id": "eAInk9rHQLj3"
      },
      "execution_count": 30,
      "outputs": []
    },
    {
      "cell_type": "code",
      "source": [
        "RF_cross_val_score = cross_val_score(rand_forest, x_smote, y_smote_1hot, cv = 10, scoring = 'accuracy')\n",
        "y_pred = cross_val_predict(rand_forest, x_smote, y_smote_1hot, cv=10)\n",
        "print('%s: %f (%f)' % ('Random Forest', RF_cross_val_score.mean(), RF_cross_val_score.std()))"
      ],
      "metadata": {
        "colab": {
          "base_uri": "https://localhost:8080/"
        },
        "id": "NvOH7dO_TnQ4",
        "outputId": "42ba9420-344a-42a4-a2d6-3c9678325e52"
      },
      "execution_count": 31,
      "outputs": [
        {
          "output_type": "stream",
          "name": "stdout",
          "text": [
            "Random Forest: 0.671714 (0.181237)\n"
          ]
        }
      ]
    },
    {
      "cell_type": "code",
      "source": [
        "# Calculate metrics\n",
        "accuracy = accuracy_score(y_smote_1hot, y_pred)\n",
        "precision = precision_score(y_smote_1hot, y_pred, average='weighted')\n",
        "recall = recall_score(y_smote_1hot, y_pred, average='weighted')\n",
        "\n",
        "print(f'Accuracy: {accuracy}')\n",
        "print(f'Recall: {recall}')\n",
        "print(f'Precision: {precision}')\n",
        "print(conf_matrix)"
      ],
      "metadata": {
        "colab": {
          "base_uri": "https://localhost:8080/"
        },
        "id": "WtdeY0O35xJA",
        "outputId": "6b0cdf4d-a987-4c54-c105-67bc65a23d52"
      },
      "execution_count": 32,
      "outputs": [
        {
          "output_type": "stream",
          "name": "stdout",
          "text": [
            "Accuracy: 0.6701132447070408\n",
            "Recall: 0.6701132447070408\n",
            "Precision: 0.9247608332545592\n",
            "[[  0   0   0   0   7   0]\n",
            " [  0   5   0   3   8   1]\n",
            " [  0   0   6   3   9   1]\n",
            " [  3   3   4  23  31   2]\n",
            " [  9   4  15  26 115  10]\n",
            " [  0   0   0   3  11   5]]\n"
          ]
        }
      ]
    },
    {
      "cell_type": "code",
      "source": [
        "classifier = LogisticRegression(solver='lbfgs', multi_class='auto')\n",
        "classifier.fit(x_smote,y_smote)"
      ],
      "metadata": {
        "colab": {
          "base_uri": "https://localhost:8080/",
          "height": 75
        },
        "id": "oxtx71zUWNAx",
        "outputId": "3f3e77e1-8358-4303-b48f-40d3345f080b"
      },
      "execution_count": 33,
      "outputs": [
        {
          "output_type": "execute_result",
          "data": {
            "text/plain": [
              "LogisticRegression()"
            ],
            "text/html": [
              "<style>#sk-container-id-2 {color: black;background-color: white;}#sk-container-id-2 pre{padding: 0;}#sk-container-id-2 div.sk-toggleable {background-color: white;}#sk-container-id-2 label.sk-toggleable__label {cursor: pointer;display: block;width: 100%;margin-bottom: 0;padding: 0.3em;box-sizing: border-box;text-align: center;}#sk-container-id-2 label.sk-toggleable__label-arrow:before {content: \"▸\";float: left;margin-right: 0.25em;color: #696969;}#sk-container-id-2 label.sk-toggleable__label-arrow:hover:before {color: black;}#sk-container-id-2 div.sk-estimator:hover label.sk-toggleable__label-arrow:before {color: black;}#sk-container-id-2 div.sk-toggleable__content {max-height: 0;max-width: 0;overflow: hidden;text-align: left;background-color: #f0f8ff;}#sk-container-id-2 div.sk-toggleable__content pre {margin: 0.2em;color: black;border-radius: 0.25em;background-color: #f0f8ff;}#sk-container-id-2 input.sk-toggleable__control:checked~div.sk-toggleable__content {max-height: 200px;max-width: 100%;overflow: auto;}#sk-container-id-2 input.sk-toggleable__control:checked~label.sk-toggleable__label-arrow:before {content: \"▾\";}#sk-container-id-2 div.sk-estimator input.sk-toggleable__control:checked~label.sk-toggleable__label {background-color: #d4ebff;}#sk-container-id-2 div.sk-label input.sk-toggleable__control:checked~label.sk-toggleable__label {background-color: #d4ebff;}#sk-container-id-2 input.sk-hidden--visually {border: 0;clip: rect(1px 1px 1px 1px);clip: rect(1px, 1px, 1px, 1px);height: 1px;margin: -1px;overflow: hidden;padding: 0;position: absolute;width: 1px;}#sk-container-id-2 div.sk-estimator {font-family: monospace;background-color: #f0f8ff;border: 1px dotted black;border-radius: 0.25em;box-sizing: border-box;margin-bottom: 0.5em;}#sk-container-id-2 div.sk-estimator:hover {background-color: #d4ebff;}#sk-container-id-2 div.sk-parallel-item::after {content: \"\";width: 100%;border-bottom: 1px solid gray;flex-grow: 1;}#sk-container-id-2 div.sk-label:hover label.sk-toggleable__label {background-color: #d4ebff;}#sk-container-id-2 div.sk-serial::before {content: \"\";position: absolute;border-left: 1px solid gray;box-sizing: border-box;top: 0;bottom: 0;left: 50%;z-index: 0;}#sk-container-id-2 div.sk-serial {display: flex;flex-direction: column;align-items: center;background-color: white;padding-right: 0.2em;padding-left: 0.2em;position: relative;}#sk-container-id-2 div.sk-item {position: relative;z-index: 1;}#sk-container-id-2 div.sk-parallel {display: flex;align-items: stretch;justify-content: center;background-color: white;position: relative;}#sk-container-id-2 div.sk-item::before, #sk-container-id-2 div.sk-parallel-item::before {content: \"\";position: absolute;border-left: 1px solid gray;box-sizing: border-box;top: 0;bottom: 0;left: 50%;z-index: -1;}#sk-container-id-2 div.sk-parallel-item {display: flex;flex-direction: column;z-index: 1;position: relative;background-color: white;}#sk-container-id-2 div.sk-parallel-item:first-child::after {align-self: flex-end;width: 50%;}#sk-container-id-2 div.sk-parallel-item:last-child::after {align-self: flex-start;width: 50%;}#sk-container-id-2 div.sk-parallel-item:only-child::after {width: 0;}#sk-container-id-2 div.sk-dashed-wrapped {border: 1px dashed gray;margin: 0 0.4em 0.5em 0.4em;box-sizing: border-box;padding-bottom: 0.4em;background-color: white;}#sk-container-id-2 div.sk-label label {font-family: monospace;font-weight: bold;display: inline-block;line-height: 1.2em;}#sk-container-id-2 div.sk-label-container {text-align: center;}#sk-container-id-2 div.sk-container {/* jupyter's `normalize.less` sets `[hidden] { display: none; }` but bootstrap.min.css set `[hidden] { display: none !important; }` so we also need the `!important` here to be able to override the default hidden behavior on the sphinx rendered scikit-learn.org. See: https://github.com/scikit-learn/scikit-learn/issues/21755 */display: inline-block !important;position: relative;}#sk-container-id-2 div.sk-text-repr-fallback {display: none;}</style><div id=\"sk-container-id-2\" class=\"sk-top-container\"><div class=\"sk-text-repr-fallback\"><pre>LogisticRegression()</pre><b>In a Jupyter environment, please rerun this cell to show the HTML representation or trust the notebook. <br />On GitHub, the HTML representation is unable to render, please try loading this page with nbviewer.org.</b></div><div class=\"sk-container\" hidden><div class=\"sk-item\"><div class=\"sk-estimator sk-toggleable\"><input class=\"sk-toggleable__control sk-hidden--visually\" id=\"sk-estimator-id-2\" type=\"checkbox\" checked><label for=\"sk-estimator-id-2\" class=\"sk-toggleable__label sk-toggleable__label-arrow\">LogisticRegression</label><div class=\"sk-toggleable__content\"><pre>LogisticRegression()</pre></div></div></div></div></div>"
            ]
          },
          "metadata": {},
          "execution_count": 33
        }
      ]
    },
    {
      "cell_type": "code",
      "source": [
        "# Predicting the Test set results\n",
        "y_pred_smote = classifier.predict(x_test)\n",
        "# Predict probabilities\n",
        "probs_y_smote =classifier.predict_proba(x_test)\n",
        "probs_y_smote = np.round(probs_y_smote, 2)"
      ],
      "metadata": {
        "id": "jsRUTDW3VjTF"
      },
      "execution_count": 34,
      "outputs": []
    },
    {
      "cell_type": "code",
      "source": [
        "# Calculate metrics\n",
        "accuracy = accuracy_score(y_test, y_pred_smote)\n",
        "precision = precision_score(y_test, y_pred_smote, average='weighted')\n",
        "recall = recall_score(y_test, y_pred_smote, average='weighted')\n",
        "conf_matrix = confusion_matrix(y_test, y_pred_smote)\n",
        "\n",
        "print(f'Accuracy: {accuracy}')\n",
        "print(f'Recall: {recall}')\n",
        "print(f'Precision: {precision}')\n",
        "print(conf_matrix)"
      ],
      "metadata": {
        "colab": {
          "base_uri": "https://localhost:8080/"
        },
        "id": "1C7L3t2iVlML",
        "outputId": "41a6e21f-13ac-478d-dc26-9584473a15bc"
      },
      "execution_count": 35,
      "outputs": [
        {
          "output_type": "stream",
          "name": "stdout",
          "text": [
            "Accuracy: 0.44299674267100975\n",
            "Recall: 0.44299674267100975\n",
            "Precision: 0.34351350926057056\n",
            "[[  0   0   1   0   6   0]\n",
            " [  0   0   1   0  16   0]\n",
            " [  0   0  18   0   1   0]\n",
            " [  0   0  18   0  48   0]\n",
            " [  0   0  61   0 118   0]\n",
            " [  0   0   1   0  18   0]]\n"
          ]
        },
        {
          "output_type": "stream",
          "name": "stderr",
          "text": [
            "/usr/local/lib/python3.10/dist-packages/sklearn/metrics/_classification.py:1344: UndefinedMetricWarning: Precision is ill-defined and being set to 0.0 in labels with no predicted samples. Use `zero_division` parameter to control this behavior.\n",
            "  _warn_prf(average, modifier, msg_start, len(result))\n"
          ]
        }
      ]
    },
    {
      "cell_type": "code",
      "source": [
        "clf = NearestNeighbors()\n",
        "clf.fit(x_smote,y_smote)\n",
        "preds = clf.predict(x_test)\n",
        "\n",
        "accuracy = accuracy_score(y_test, preds)\n",
        "precision = precision_score(y_test, preds, average='weighted')\n",
        "recall = recall_score(y_test, preds, average='weighted')\n",
        "conf_matrix = confusion_matrix(y_test, preds)\n",
        "\n",
        "print(f'Accuracy: {accuracy}')\n",
        "print(f'Recall: {recall}')\n",
        "print(f'Precision: {precision}')\n",
        "print(conf_matrix)"
      ],
      "metadata": {
        "colab": {
          "base_uri": "https://localhost:8080/"
        },
        "id": "QUzqE9jM5K3w",
        "outputId": "b1e74c7b-ef06-4ee9-de51-828b59be10c1"
      },
      "execution_count": 36,
      "outputs": [
        {
          "output_type": "stream",
          "name": "stdout",
          "text": [
            "Accuracy: 0.5830618892508144\n",
            "Recall: 0.5830618892508144\n",
            "Precision: 0.33996116669672893\n",
            "[[  0   0   0   0   7   0]\n",
            " [  0   0   0   0  17   0]\n",
            " [  0   0   0   0  19   0]\n",
            " [  0   0   0   0  66   0]\n",
            " [  0   0   0   0 179   0]\n",
            " [  0   0   0   0  19   0]]\n"
          ]
        },
        {
          "output_type": "stream",
          "name": "stderr",
          "text": [
            "/usr/local/lib/python3.10/dist-packages/sklearn/metrics/_classification.py:1344: UndefinedMetricWarning: Precision is ill-defined and being set to 0.0 in labels with no predicted samples. Use `zero_division` parameter to control this behavior.\n",
            "  _warn_prf(average, modifier, msg_start, len(result))\n"
          ]
        }
      ]
    },
    {
      "cell_type": "code",
      "source": [
        "from sklearn.neural_network import MLPClassifier\n",
        "nn = MLPClassifier(solver='lbfgs', alpha=1e-5, hidden_layer_sizes=(5000, 10), random_state=1)\n",
        "nn.fit(x_smote,y_smote)\n",
        "preds = nn.predict(x_test)"
      ],
      "metadata": {
        "colab": {
          "base_uri": "https://localhost:8080/"
        },
        "id": "dnOY5UrI72JE",
        "outputId": "6db4b556-33f5-4cf3-ec4b-d84ce32cf14d"
      },
      "execution_count": 37,
      "outputs": [
        {
          "output_type": "stream",
          "name": "stderr",
          "text": [
            "/usr/local/lib/python3.10/dist-packages/sklearn/neural_network/_multilayer_perceptron.py:541: ConvergenceWarning: lbfgs failed to converge (status=1):\n",
            "STOP: TOTAL NO. of ITERATIONS REACHED LIMIT.\n",
            "\n",
            "Increase the number of iterations (max_iter) or scale the data as shown in:\n",
            "    https://scikit-learn.org/stable/modules/preprocessing.html\n",
            "  self.n_iter_ = _check_optimize_result(\"lbfgs\", opt_res, self.max_iter)\n"
          ]
        }
      ]
    },
    {
      "cell_type": "code",
      "source": [
        "accuracy = accuracy_score(y_test, preds)\n",
        "precision = precision_score(y_test, preds, average='weighted')\n",
        "recall = recall_score(y_test, preds, average='weighted')\n",
        "conf_matrix = confusion_matrix(y_test, preds)\n",
        "\n",
        "print(f'Accuracy: {accuracy}')\n",
        "print(f'Recall: {recall}')\n",
        "print(f'Precision: {precision}')\n",
        "print(conf_matrix)"
      ],
      "metadata": {
        "colab": {
          "base_uri": "https://localhost:8080/"
        },
        "id": "1OEVr1cy784b",
        "outputId": "f3a793f7-b4cf-4187-e892-e0fd11588fb1"
      },
      "execution_count": 38,
      "outputs": [
        {
          "output_type": "stream",
          "name": "stdout",
          "text": [
            "Accuracy: 0.5830618892508144\n",
            "Recall: 0.5830618892508144\n",
            "Precision: 0.33996116669672893\n",
            "[[  0   0   0   0   7   0]\n",
            " [  0   0   0   0  17   0]\n",
            " [  0   0   0   0  19   0]\n",
            " [  0   0   0   0  66   0]\n",
            " [  0   0   0   0 179   0]\n",
            " [  0   0   0   0  19   0]]\n"
          ]
        },
        {
          "output_type": "stream",
          "name": "stderr",
          "text": [
            "/usr/local/lib/python3.10/dist-packages/sklearn/metrics/_classification.py:1344: UndefinedMetricWarning: Precision is ill-defined and being set to 0.0 in labels with no predicted samples. Use `zero_division` parameter to control this behavior.\n",
            "  _warn_prf(average, modifier, msg_start, len(result))\n"
          ]
        }
      ]
    },
    {
      "cell_type": "code",
      "source": [
        "import tensorflow as tf\n",
        "from tensorflow.keras import layers, models\n",
        "from sklearn.model_selection import train_test_split\n",
        "from sklearn.preprocessing import StandardScaler\n",
        "import pandas as pd\n",
        "\n",
        "train, test = train_test_split(df_spotify_clean, test_size=0.2, random_state=1)\n",
        "\n",
        "x_train = train.values[:, 1:]\n",
        "y_train = train['top_genre']\n",
        "\n",
        "x_test = test.values[:, 1:]\n",
        "y_test = test['top_genre']\n",
        "\n",
        "standard_scaler = StandardScaler().fit(x_train)\n",
        "x_train_SS = standard_scaler.transform(x_train)\n",
        "x_test_SS = standard_scaler.transform(x_test)\n",
        "\n",
        "label_encoder = LabelEncoder()\n",
        "\n",
        "y_train_encoded = label_encoder.fit_transform(y_train)\n",
        "y_test_encoded = label_encoder.transform(y_test)\n",
        "x_train_SS = x_train_SS.reshape(x_train_SS.shape[0], x_train_SS.shape[1], 1)\n",
        "x_test_SS = x_test_SS.reshape(x_test_SS.shape[0], x_test_SS.shape[1], 1)\n",
        "\n",
        "x_train_2D = x_train_SS.reshape(x_train_SS.shape[0], -1)\n",
        "\n",
        "smote = SMOTE(sampling_strategy='auto', random_state=1)\n",
        "x_train_resampled, y_train_resampled = smote.fit_resample(x_train_2D, y_train_encoded)\n",
        "\n",
        "x_train_resampled = x_train_resampled.reshape(x_train_resampled.shape[0], x_train_SS.shape[1], 1)\n",
        "\n",
        "model = models.Sequential()\n",
        "model.add(layers.Conv1D(32, kernel_size=3, activation='relu', input_shape=(x_train_SS.shape[1], 1)))\n",
        "model.add(layers.MaxPooling1D(pool_size=2))\n",
        "model.add(layers.Flatten())\n",
        "model.add(layers.Dense(64, activation='relu'))\n",
        "model.add(layers.Dense(len(label_encoder.classes_), activation='softmax'))  # Output layer with the number of classes\n",
        "\n",
        "model.compile(optimizer='adam', loss='sparse_categorical_crossentropy', metrics=['accuracy'])\n",
        "\n",
        "model.fit(x_train_resampled, y_train_resampled, epochs=10, validation_data=(x_test_SS, y_test_encoded))\n",
        "\n",
        "test_loss, test_accuracy = model.evaluate(x_test_SS, y_test_encoded)\n",
        "print(f'Test Accuracy: {test_accuracy * 100:.2f}%')"
      ],
      "metadata": {
        "colab": {
          "base_uri": "https://localhost:8080/"
        },
        "id": "gpT_FG7i81gj",
        "outputId": "a1d73b9a-2094-4b1e-d5af-ca47406ebfbb"
      },
      "execution_count": 57,
      "outputs": [
        {
          "output_type": "stream",
          "name": "stdout",
          "text": [
            "Epoch 1/10\n",
            "127/127 [==============================] - 4s 16ms/step - loss: 1.4994 - accuracy: 0.4338 - val_loss: 1.5058 - val_accuracy: 0.3550\n",
            "Epoch 2/10\n",
            "127/127 [==============================] - 1s 7ms/step - loss: 1.1760 - accuracy: 0.5615 - val_loss: 1.4411 - val_accuracy: 0.3746\n",
            "Epoch 3/10\n",
            "127/127 [==============================] - 1s 8ms/step - loss: 1.0807 - accuracy: 0.5881 - val_loss: 1.4625 - val_accuracy: 0.4039\n",
            "Epoch 4/10\n",
            "127/127 [==============================] - 1s 9ms/step - loss: 1.0271 - accuracy: 0.6160 - val_loss: 1.4232 - val_accuracy: 0.4039\n",
            "Epoch 5/10\n",
            "127/127 [==============================] - 1s 10ms/step - loss: 0.9860 - accuracy: 0.6342 - val_loss: 1.5198 - val_accuracy: 0.3648\n",
            "Epoch 6/10\n",
            "127/127 [==============================] - 1s 7ms/step - loss: 0.9410 - accuracy: 0.6494 - val_loss: 1.4690 - val_accuracy: 0.4007\n",
            "Epoch 7/10\n",
            "127/127 [==============================] - 1s 7ms/step - loss: 0.9049 - accuracy: 0.6679 - val_loss: 1.4219 - val_accuracy: 0.4137\n",
            "Epoch 8/10\n",
            "127/127 [==============================] - 1s 7ms/step - loss: 0.8628 - accuracy: 0.6881 - val_loss: 1.4473 - val_accuracy: 0.3974\n",
            "Epoch 9/10\n",
            "127/127 [==============================] - 1s 8ms/step - loss: 0.8308 - accuracy: 0.6920 - val_loss: 1.3220 - val_accuracy: 0.4365\n",
            "Epoch 10/10\n",
            "127/127 [==============================] - 1s 10ms/step - loss: 0.7977 - accuracy: 0.7095 - val_loss: 1.3838 - val_accuracy: 0.4332\n",
            "10/10 [==============================] - 0s 7ms/step - loss: 1.3838 - accuracy: 0.4332\n",
            "Test Accuracy: 43.32%\n"
          ]
        }
      ]
    },
    {
      "cell_type": "code",
      "source": [
        "model = models.Sequential()\n",
        "model.add(layers.Conv1D(32, kernel_size=3, activation='relu', input_shape=(x_train_SS.shape[1], 1)))\n",
        "model.add(layers.BatchNormalization())\n",
        "model.add(layers.MaxPooling1D(pool_size=2))\n",
        "model.add(layers.Flatten())\n",
        "model.add(layers.Dropout(0.2))\n",
        "model.add(layers.Dense(64, activation='relu'))\n",
        "model.add(layers.Dense(len(label_encoder.classes_), activation='softmax'))\n",
        "\n",
        "model.compile(optimizer=tf.keras.optimizers.Adam(learning_rate=0.01),\n",
        "              loss='sparse_categorical_crossentropy',\n",
        "              metrics=['accuracy'])\n",
        "\n",
        "\n",
        "history = model.fit(x_train_resampled, y_train_resampled, epochs=10, validation_data=(x_test_SS, y_test_encoded))\n",
        "\n",
        "test_loss, test_accuracy = model.evaluate(x_test_SS, y_test_encoded)\n",
        "print(f'Test Accuracy: {test_accuracy * 100:.2f}%')"
      ],
      "metadata": {
        "colab": {
          "base_uri": "https://localhost:8080/"
        },
        "id": "X9vgx0Y4vfhO",
        "outputId": "1363a992-17ae-486e-d609-6dd381a239d0"
      },
      "execution_count": 56,
      "outputs": [
        {
          "output_type": "stream",
          "name": "stdout",
          "text": [
            "Epoch 1/10\n",
            "127/127 [==============================] - 3s 7ms/step - loss: 1.2251 - accuracy: 0.5478 - val_loss: 1.5216 - val_accuracy: 0.2638\n",
            "Epoch 2/10\n",
            "127/127 [==============================] - 1s 5ms/step - loss: 0.9179 - accuracy: 0.6507 - val_loss: 1.3350 - val_accuracy: 0.4039\n",
            "Epoch 3/10\n",
            "127/127 [==============================] - 1s 5ms/step - loss: 0.8337 - accuracy: 0.6901 - val_loss: 1.4321 - val_accuracy: 0.4104\n",
            "Epoch 4/10\n",
            "127/127 [==============================] - 1s 5ms/step - loss: 0.7388 - accuracy: 0.7226 - val_loss: 1.7151 - val_accuracy: 0.3779\n",
            "Epoch 5/10\n",
            "127/127 [==============================] - 1s 4ms/step - loss: 0.7161 - accuracy: 0.7319 - val_loss: 1.4932 - val_accuracy: 0.4235\n",
            "Epoch 6/10\n",
            "127/127 [==============================] - 0s 3ms/step - loss: 0.6996 - accuracy: 0.7309 - val_loss: 1.5866 - val_accuracy: 0.4039\n",
            "Epoch 7/10\n",
            "127/127 [==============================] - 0s 3ms/step - loss: 0.6513 - accuracy: 0.7523 - val_loss: 1.5867 - val_accuracy: 0.4397\n",
            "Epoch 8/10\n",
            "127/127 [==============================] - 0s 3ms/step - loss: 0.6218 - accuracy: 0.7698 - val_loss: 1.6661 - val_accuracy: 0.4104\n",
            "Epoch 9/10\n",
            "127/127 [==============================] - 0s 3ms/step - loss: 0.5997 - accuracy: 0.7767 - val_loss: 1.5952 - val_accuracy: 0.4300\n",
            "Epoch 10/10\n",
            "127/127 [==============================] - 0s 3ms/step - loss: 0.5899 - accuracy: 0.7784 - val_loss: 1.5408 - val_accuracy: 0.4560\n",
            "10/10 [==============================] - 0s 2ms/step - loss: 1.5408 - accuracy: 0.4560\n",
            "Test Accuracy: 45.60%\n"
          ]
        }
      ]
    }
  ]
}
