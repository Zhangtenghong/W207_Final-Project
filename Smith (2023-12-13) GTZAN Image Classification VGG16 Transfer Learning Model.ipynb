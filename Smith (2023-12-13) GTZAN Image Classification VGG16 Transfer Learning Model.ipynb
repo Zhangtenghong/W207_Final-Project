{
 "cells": [
  {
   "cell_type": "markdown",
   "metadata": {
    "id": "DOEEmqOhB5gU"
   },
   "source": [
    "# VGG16 Transfer Learning Image Classification Model\n",
    "Using the pretrained model, our goal is to utilize transfer learning to yield a more accurate model that recognizes genres from our spectrograms.\n",
    "\n",
    "Source for code guidance: https://www.kaggle.com/code/danaelisanicolas/cnn-part-4-training-and-modelling-with-vgg16/notebook."
   ]
  },
  {
   "cell_type": "markdown",
   "metadata": {
    "id": "hlO5G1SeB5gY"
   },
   "source": [
    "Import libraries"
   ]
  },
  {
   "cell_type": "code",
   "execution_count": 1,
   "metadata": {
    "_cell_guid": "b1076dfc-b9ad-4769-8c92-a6c4dae69d19",
    "_uuid": "8f2839f25d086af736a60e9eeb907d3b93b6e0e5",
    "executionInfo": {
     "elapsed": 4864,
     "status": "ok",
     "timestamp": 1702257510223,
     "user": {
      "displayName": "Hannah Grace Macaraeg Smith",
      "userId": "12827411390873405622"
     },
     "user_tz": 480
    },
    "id": "1vNF63fYB5gZ"
   },
   "outputs": [],
   "source": [
    "from tensorflow.keras.applications.vgg16 import VGG16\n",
    "from tensorflow.keras.applications.vgg16 import preprocess_input\n",
    "from tensorflow.keras.models import Model, Sequential\n",
    "from tensorflow.keras.preprocessing.image import ImageDataGenerator\n",
    "from tensorflow.keras.optimizers import Adam\n",
    "from tensorflow.keras.layers import Dense, Conv2D, MaxPool2D , Flatten\n",
    "from tensorflow.keras.losses import categorical_crossentropy\n",
    "from tensorflow.keras.callbacks import ModelCheckpoint, EarlyStopping\n",
    "from tensorflow.keras import metrics\n",
    "\n",
    "from sklearn.utils import class_weight\n",
    "from collections import Counter\n",
    "\n",
    "import matplotlib.pyplot as plt\n",
    "\n",
    "from os import listdir\n",
    "from os.path import isfile, join\n",
    "\n",
    "import pandas as pd"
   ]
  },
  {
   "cell_type": "markdown",
   "metadata": {
    "id": "pEPFlDoPB5gf"
   },
   "source": [
    "Prepare the data with target size of 224 by 224 (requiredment for VGG16)"
   ]
  },
  {
   "cell_type": "code",
   "execution_count": 2,
   "metadata": {
    "colab": {
     "base_uri": "https://localhost:8080/"
    },
    "executionInfo": {
     "elapsed": 23968,
     "status": "ok",
     "timestamp": 1702257534184,
     "user": {
      "displayName": "Hannah Grace Macaraeg Smith",
      "userId": "12827411390873405622"
     },
     "user_tz": 480
    },
    "id": "kazWWTNlCH6C",
    "outputId": "d0645893-22e1-4f86-f3dd-27557cb74caa"
   },
   "outputs": [
    {
     "name": "stdout",
     "output_type": "stream",
     "text": [
      "Mounted at /content/gdrive\n"
     ]
    }
   ],
   "source": [
    "from google.colab import drive\n",
    "drive.mount('/content/gdrive')"
   ]
  },
  {
   "cell_type": "code",
   "execution_count": 3,
   "metadata": {
    "executionInfo": {
     "elapsed": 9,
     "status": "ok",
     "timestamp": 1702257534184,
     "user": {
      "displayName": "Hannah Grace Macaraeg Smith",
      "userId": "12827411390873405622"
     },
     "user_tz": 480
    },
    "id": "o16c7HdCCRKn"
   },
   "outputs": [],
   "source": [
    "train_loc = '/content/gdrive/MyDrive/split_image_data/train'\n",
    "val_loc = '/content/gdrive/MyDrive/split_image_data/val'"
   ]
  },
  {
   "cell_type": "code",
   "execution_count": 4,
   "metadata": {
    "colab": {
     "base_uri": "https://localhost:8080/"
    },
    "executionInfo": {
     "elapsed": 3862,
     "status": "ok",
     "timestamp": 1702257538041,
     "user": {
      "displayName": "Hannah Grace Macaraeg Smith",
      "userId": "12827411390873405622"
     },
     "user_tz": 480
    },
    "id": "Csj9NRj4B5gg",
    "outputId": "12b521d0-668b-47b4-f5b9-90782dd62b75",
    "scrolled": true
   },
   "outputs": [
    {
     "name": "stdout",
     "output_type": "stream",
     "text": [
      "Found 699 images belonging to 10 classes.\n",
      "Found 150 images belonging to 10 classes.\n"
     ]
    }
   ],
   "source": [
    "# Train\n",
    "trdata = ImageDataGenerator()\n",
    "traindata = trdata.flow_from_directory(directory=train_loc, target_size=(224,224))\n",
    "\n",
    "# Val\n",
    "vldata = ImageDataGenerator()\n",
    "valdata = vldata.flow_from_directory(directory=val_loc, target_size=(224,224))"
   ]
  },
  {
   "cell_type": "code",
   "execution_count": 5,
   "metadata": {
    "colab": {
     "base_uri": "https://localhost:8080/"
    },
    "executionInfo": {
     "elapsed": 10,
     "status": "ok",
     "timestamp": 1702257538042,
     "user": {
      "displayName": "Hannah Grace Macaraeg Smith",
      "userId": "12827411390873405622"
     },
     "user_tz": 480
    },
    "id": "SaPj7bDoB5gg",
    "outputId": "d8906472-6f81-4df2-9db1-a75c8bd017a7"
   },
   "outputs": [
    {
     "data": {
      "text/plain": [
       "['blues',\n",
       " 'classical',\n",
       " 'country',\n",
       " 'disco',\n",
       " 'hiphop',\n",
       " 'jazz',\n",
       " 'metal',\n",
       " 'pop',\n",
       " 'reggae',\n",
       " 'rock']"
      ]
     },
     "execution_count": 5,
     "metadata": {},
     "output_type": "execute_result"
    }
   ],
   "source": [
    "categories = ['blues', 'classical', 'country', 'disco', 'hiphop',\n",
    "               'jazz', 'metal', 'pop', 'reggae', 'rock']\n",
    "categories"
   ]
  },
  {
   "cell_type": "markdown",
   "metadata": {
    "id": "BUmCdq0pB5gg"
   },
   "source": [
    "Use weights from pretrained model\n"
   ]
  },
  {
   "cell_type": "code",
   "execution_count": 6,
   "metadata": {
    "colab": {
     "base_uri": "https://localhost:8080/"
    },
    "executionInfo": {
     "elapsed": 19797,
     "status": "ok",
     "timestamp": 1702257557832,
     "user": {
      "displayName": "Hannah Grace Macaraeg Smith",
      "userId": "12827411390873405622"
     },
     "user_tz": 480
    },
    "id": "7AKWdbfOB5gh",
    "outputId": "ebff1649-2314-4802-f694-1faa30f1b743"
   },
   "outputs": [
    {
     "name": "stdout",
     "output_type": "stream",
     "text": [
      "Downloading data from https://storage.googleapis.com/tensorflow/keras-applications/vgg16/vgg16_weights_tf_dim_ordering_tf_kernels.h5\n",
      "553467096/553467096 [==============================] - 14s 0us/step\n",
      "Model: \"vgg16\"\n",
      "_________________________________________________________________\n",
      " Layer (type)                Output Shape              Param #   \n",
      "=================================================================\n",
      " input_1 (InputLayer)        [(None, 224, 224, 3)]     0         \n",
      "                                                                 \n",
      " block1_conv1 (Conv2D)       (None, 224, 224, 64)      1792      \n",
      "                                                                 \n",
      " block1_conv2 (Conv2D)       (None, 224, 224, 64)      36928     \n",
      "                                                                 \n",
      " block1_pool (MaxPooling2D)  (None, 112, 112, 64)      0         \n",
      "                                                                 \n",
      " block2_conv1 (Conv2D)       (None, 112, 112, 128)     73856     \n",
      "                                                                 \n",
      " block2_conv2 (Conv2D)       (None, 112, 112, 128)     147584    \n",
      "                                                                 \n",
      " block2_pool (MaxPooling2D)  (None, 56, 56, 128)       0         \n",
      "                                                                 \n",
      " block3_conv1 (Conv2D)       (None, 56, 56, 256)       295168    \n",
      "                                                                 \n",
      " block3_conv2 (Conv2D)       (None, 56, 56, 256)       590080    \n",
      "                                                                 \n",
      " block3_conv3 (Conv2D)       (None, 56, 56, 256)       590080    \n",
      "                                                                 \n",
      " block3_pool (MaxPooling2D)  (None, 28, 28, 256)       0         \n",
      "                                                                 \n",
      " block4_conv1 (Conv2D)       (None, 28, 28, 512)       1180160   \n",
      "                                                                 \n",
      " block4_conv2 (Conv2D)       (None, 28, 28, 512)       2359808   \n",
      "                                                                 \n",
      " block4_conv3 (Conv2D)       (None, 28, 28, 512)       2359808   \n",
      "                                                                 \n",
      " block4_pool (MaxPooling2D)  (None, 14, 14, 512)       0         \n",
      "                                                                 \n",
      " block5_conv1 (Conv2D)       (None, 14, 14, 512)       2359808   \n",
      "                                                                 \n",
      " block5_conv2 (Conv2D)       (None, 14, 14, 512)       2359808   \n",
      "                                                                 \n",
      " block5_conv3 (Conv2D)       (None, 14, 14, 512)       2359808   \n",
      "                                                                 \n",
      " block5_pool (MaxPooling2D)  (None, 7, 7, 512)         0         \n",
      "                                                                 \n",
      " flatten (Flatten)           (None, 25088)             0         \n",
      "                                                                 \n",
      " fc1 (Dense)                 (None, 4096)              102764544 \n",
      "                                                                 \n",
      " fc2 (Dense)                 (None, 4096)              16781312  \n",
      "                                                                 \n",
      " predictions (Dense)         (None, 1000)              4097000   \n",
      "                                                                 \n",
      "=================================================================\n",
      "Total params: 138357544 (527.79 MB)\n",
      "Trainable params: 138357544 (527.79 MB)\n",
      "Non-trainable params: 0 (0.00 Byte)\n",
      "_________________________________________________________________\n"
     ]
    }
   ],
   "source": [
    "vgg16 = VGG16(weights='imagenet')\n",
    "vgg16.summary()\n",
    "\n",
    "x  = vgg16.get_layer('fc2').output\n",
    "prediction = Dense(10, activation='softmax', name='predictions')(x)\n",
    "\n",
    "model = Model(inputs=vgg16.input, outputs=prediction)"
   ]
  },
  {
   "cell_type": "markdown",
   "metadata": {
    "id": "QkDoKrGgB5gh"
   },
   "source": [
    "20/23 layers are learnable"
   ]
  },
  {
   "cell_type": "code",
   "execution_count": 7,
   "metadata": {
    "colab": {
     "base_uri": "https://localhost:8080/"
    },
    "executionInfo": {
     "elapsed": 37,
     "status": "ok",
     "timestamp": 1702257557833,
     "user": {
      "displayName": "Hannah Grace Macaraeg Smith",
      "userId": "12827411390873405622"
     },
     "user_tz": 480
    },
    "id": "1GJqADwYB5gi",
    "outputId": "92ce2d3d-26fc-441c-c6cf-cdefb711578e"
   },
   "outputs": [
    {
     "name": "stdout",
     "output_type": "stream",
     "text": [
      "Layer 'block1_pool' is trainable\n",
      "Layer 'block2_conv1' is trainable\n",
      "Layer 'block2_conv2' is trainable\n",
      "Layer 'block2_pool' is trainable\n",
      "Layer 'block3_conv1' is trainable\n",
      "Layer 'block3_conv2' is trainable\n",
      "Layer 'block3_conv3' is trainable\n",
      "Layer 'block3_pool' is trainable\n",
      "Layer 'block4_conv1' is trainable\n",
      "Layer 'block4_conv2' is trainable\n",
      "Layer 'block4_conv3' is trainable\n",
      "Layer 'block4_pool' is trainable\n",
      "Layer 'block5_conv1' is trainable\n",
      "Layer 'block5_conv2' is trainable\n",
      "Layer 'block5_conv3' is trainable\n",
      "Layer 'block5_pool' is trainable\n",
      "Layer 'flatten' is trainable\n",
      "Layer 'fc1' is trainable\n",
      "Layer 'fc2' is trainable\n",
      "Layer 'predictions' is trainable\n"
     ]
    }
   ],
   "source": [
    "for layer in model.layers:\n",
    "    layer.trainable = False\n",
    "\n",
    "for layer in model.layers[-20:]:\n",
    "    layer.trainable = True\n",
    "    print(\"Layer '%s' is trainable\" % layer.name)"
   ]
  },
  {
   "cell_type": "markdown",
   "metadata": {
    "id": "YT06AKcUB5gi"
   },
   "source": [
    "Adam as optimizer with a learning rate of 0.001"
   ]
  },
  {
   "cell_type": "code",
   "execution_count": 8,
   "metadata": {
    "colab": {
     "base_uri": "https://localhost:8080/"
    },
    "executionInfo": {
     "elapsed": 386,
     "status": "ok",
     "timestamp": 1702257558187,
     "user": {
      "displayName": "Hannah Grace Macaraeg Smith",
      "userId": "12827411390873405622"
     },
     "user_tz": 480
    },
    "id": "a3QP2okeB5gj",
    "outputId": "700bcf35-ce0e-409b-dc77-745627ca66b7"
   },
   "outputs": [
    {
     "name": "stdout",
     "output_type": "stream",
     "text": [
      "Model: \"model\"\n",
      "_________________________________________________________________\n",
      " Layer (type)                Output Shape              Param #   \n",
      "=================================================================\n",
      " input_1 (InputLayer)        [(None, 224, 224, 3)]     0         \n",
      "                                                                 \n",
      " block1_conv1 (Conv2D)       (None, 224, 224, 64)      1792      \n",
      "                                                                 \n",
      " block1_conv2 (Conv2D)       (None, 224, 224, 64)      36928     \n",
      "                                                                 \n",
      " block1_pool (MaxPooling2D)  (None, 112, 112, 64)      0         \n",
      "                                                                 \n",
      " block2_conv1 (Conv2D)       (None, 112, 112, 128)     73856     \n",
      "                                                                 \n",
      " block2_conv2 (Conv2D)       (None, 112, 112, 128)     147584    \n",
      "                                                                 \n",
      " block2_pool (MaxPooling2D)  (None, 56, 56, 128)       0         \n",
      "                                                                 \n",
      " block3_conv1 (Conv2D)       (None, 56, 56, 256)       295168    \n",
      "                                                                 \n",
      " block3_conv2 (Conv2D)       (None, 56, 56, 256)       590080    \n",
      "                                                                 \n",
      " block3_conv3 (Conv2D)       (None, 56, 56, 256)       590080    \n",
      "                                                                 \n",
      " block3_pool (MaxPooling2D)  (None, 28, 28, 256)       0         \n",
      "                                                                 \n",
      " block4_conv1 (Conv2D)       (None, 28, 28, 512)       1180160   \n",
      "                                                                 \n",
      " block4_conv2 (Conv2D)       (None, 28, 28, 512)       2359808   \n",
      "                                                                 \n",
      " block4_conv3 (Conv2D)       (None, 28, 28, 512)       2359808   \n",
      "                                                                 \n",
      " block4_pool (MaxPooling2D)  (None, 14, 14, 512)       0         \n",
      "                                                                 \n",
      " block5_conv1 (Conv2D)       (None, 14, 14, 512)       2359808   \n",
      "                                                                 \n",
      " block5_conv2 (Conv2D)       (None, 14, 14, 512)       2359808   \n",
      "                                                                 \n",
      " block5_conv3 (Conv2D)       (None, 14, 14, 512)       2359808   \n",
      "                                                                 \n",
      " block5_pool (MaxPooling2D)  (None, 7, 7, 512)         0         \n",
      "                                                                 \n",
      " flatten (Flatten)           (None, 25088)             0         \n",
      "                                                                 \n",
      " fc1 (Dense)                 (None, 4096)              102764544 \n",
      "                                                                 \n",
      " fc2 (Dense)                 (None, 4096)              16781312  \n",
      "                                                                 \n",
      " predictions (Dense)         (None, 10)                40970     \n",
      "                                                                 \n",
      "=================================================================\n",
      "Total params: 134301514 (512.32 MB)\n",
      "Trainable params: 134262794 (512.17 MB)\n",
      "Non-trainable params: 38720 (151.25 KB)\n",
      "_________________________________________________________________\n"
     ]
    }
   ],
   "source": [
    "opt = Adam(learning_rate=0.001)\n",
    "model.compile(optimizer=opt, loss=categorical_crossentropy,\n",
    "              metrics=['accuracy', 'mae'])\n",
    "model.summary()"
   ]
  },
  {
   "cell_type": "markdown",
   "metadata": {
    "id": "6FbCYk65B5gj"
   },
   "source": [
    "Defining our monitor and early stopping point."
   ]
  },
  {
   "cell_type": "code",
   "execution_count": 9,
   "metadata": {
    "executionInfo": {
     "elapsed": 8,
     "status": "ok",
     "timestamp": 1702257558187,
     "user": {
      "displayName": "Hannah Grace Macaraeg Smith",
      "userId": "12827411390873405622"
     },
     "user_tz": 480
    },
    "id": "snqsuYsgB5gj"
   },
   "outputs": [],
   "source": [
    "checkpoint = ModelCheckpoint(\"vgg16_base_res.h5\", monitor='val_accuracy', verbose=1,\n",
    "                             save_best_only=True, save_weights_only=False, mode='auto')\n",
    "early = EarlyStopping(monitor='val_accuracy', min_delta=0, patience=20, verbose=1, mode='auto')"
   ]
  },
  {
   "cell_type": "markdown",
   "metadata": {
    "id": "Vxk-KfSjB5gk"
   },
   "source": [
    "Our data is balanced, but here are additional weights if we use this with an imbalanced data set--this is mostly for exploration"
   ]
  },
  {
   "cell_type": "code",
   "execution_count": 10,
   "metadata": {
    "colab": {
     "base_uri": "https://localhost:8080/"
    },
    "executionInfo": {
     "elapsed": 8,
     "status": "ok",
     "timestamp": 1702257558187,
     "user": {
      "displayName": "Hannah Grace Macaraeg Smith",
      "userId": "12827411390873405622"
     },
     "user_tz": 480
    },
    "id": "dzprlgMPB5gk",
    "outputId": "b8b3de17-5665-4391-eb77-90add44ccdc0"
   },
   "outputs": [
    {
     "data": {
      "text/plain": [
       "{0: 1.1014492753623188,\n",
       " 1: 1.0704225352112675,\n",
       " 2: 1.1692307692307693,\n",
       " 3: 1.1875,\n",
       " 4: 1.0704225352112675,\n",
       " 5: 1.1515151515151516,\n",
       " 6: 1.0133333333333334,\n",
       " 7: 1.0555555555555556,\n",
       " 8: 1.0857142857142856,\n",
       " 9: 1.0}"
      ]
     },
     "execution_count": 10,
     "metadata": {},
     "output_type": "execute_result"
    }
   ],
   "source": [
    "counter = Counter(traindata.classes)\n",
    "max_val = float(max(counter.values()))\n",
    "class_weights = {class_id : max_val/num_images for class_id, num_images in counter.items()}\n",
    "class_weights"
   ]
  },
  {
   "cell_type": "markdown",
   "metadata": {
    "id": "Rsm6xgQ6B5gk"
   },
   "source": [
    "Run Model!"
   ]
  },
  {
   "cell_type": "code",
   "execution_count": 11,
   "metadata": {
    "colab": {
     "base_uri": "https://localhost:8080/"
    },
    "executionInfo": {
     "elapsed": 1177426,
     "status": "ok",
     "timestamp": 1702258735608,
     "user": {
      "displayName": "Hannah Grace Macaraeg Smith",
      "userId": "12827411390873405622"
     },
     "user_tz": 480
    },
    "id": "a8MFYXJ0B5gl",
    "outputId": "84253e93-327c-428b-cb66-80c9835cf57b"
   },
   "outputs": [
    {
     "name": "stdout",
     "output_type": "stream",
     "text": [
      "Epoch 1/150\n",
      "21/21 [==============================] - ETA: 0s - loss: 46.9070 - accuracy: 0.1064 - mae: 0.1804\n",
      "Epoch 1: val_accuracy improved from -inf to 0.10938, saving model to vgg16_base_res.h5\n"
     ]
    },
    {
     "name": "stderr",
     "output_type": "stream",
     "text": [
      "/usr/local/lib/python3.10/dist-packages/keras/src/engine/training.py:3079: UserWarning: You are saving your model as an HDF5 file via `model.save()`. This file format is considered legacy. We recommend using instead the native Keras format, e.g. `model.save('my_model.keras')`.\n",
      "  saving_api.save_model(\n"
     ]
    },
    {
     "name": "stdout",
     "output_type": "stream",
     "text": [
      "\b\b\b\b\b\b\b\b\b\b\b\b\b\b\b\b\b\b\b\b\b\b\b\b\b\b\b\b\b\b\b\b\b\b\b\b\b\b\b\b\b\b\b\b\b\b\b\b\b\b\b\b\b\b\b\b\b\b\b\b\b\b\b\b\b\b\b\b\b\b\b\b\b\b\b\b\b\b\b\b\b\b\b\b\b\b\b\b\b\b\b\b\b\b\b\b\b\r",
      "21/21 [==============================] - 289s 13s/step - loss: 46.9070 - accuracy: 0.1064 - mae: 0.1804 - val_loss: 2.4421 - val_accuracy: 0.1094 - val_mae: 0.1789\n",
      "Epoch 2/150\n",
      "21/21 [==============================] - ETA: 0s - loss: 3.0618 - accuracy: 0.0765 - mae: 0.1806\n",
      "Epoch 2: val_accuracy did not improve from 0.10938\n",
      "21/21 [==============================] - 8s 382ms/step - loss: 3.0618 - accuracy: 0.0765 - mae: 0.1806 - val_loss: 2.6466 - val_accuracy: 0.0859 - val_mae: 0.1792\n",
      "Epoch 3/150\n",
      "21/21 [==============================] - ETA: 0s - loss: 2.6064 - accuracy: 0.1304 - mae: 0.1773\n",
      "Epoch 3: val_accuracy improved from 0.10938 to 0.16406, saving model to vgg16_base_res.h5\n",
      "21/21 [==============================] - 22s 1s/step - loss: 2.6064 - accuracy: 0.1304 - mae: 0.1773 - val_loss: 2.2871 - val_accuracy: 0.1641 - val_mae: 0.1743\n",
      "Epoch 4/150\n",
      "21/21 [==============================] - ETA: 0s - loss: 2.3942 - accuracy: 0.1604 - mae: 0.1727\n",
      "Epoch 4: val_accuracy improved from 0.16406 to 0.20312, saving model to vgg16_base_res.h5\n",
      "21/21 [==============================] - 16s 752ms/step - loss: 2.3942 - accuracy: 0.1604 - mae: 0.1727 - val_loss: 2.4857 - val_accuracy: 0.2031 - val_mae: 0.1722\n",
      "Epoch 5/150\n",
      "21/21 [==============================] - ETA: 0s - loss: 2.3839 - accuracy: 0.1934 - mae: 0.1713\n",
      "Epoch 5: val_accuracy did not improve from 0.20312\n",
      "21/21 [==============================] - 8s 389ms/step - loss: 2.3839 - accuracy: 0.1934 - mae: 0.1713 - val_loss: 2.2339 - val_accuracy: 0.1797 - val_mae: 0.1763\n",
      "Epoch 6/150\n",
      "21/21 [==============================] - ETA: 0s - loss: 2.4099 - accuracy: 0.1604 - mae: 0.1726\n",
      "Epoch 6: val_accuracy did not improve from 0.20312\n",
      "21/21 [==============================] - 8s 378ms/step - loss: 2.4099 - accuracy: 0.1604 - mae: 0.1726 - val_loss: 2.2184 - val_accuracy: 0.1406 - val_mae: 0.1733\n",
      "Epoch 7/150\n",
      "21/21 [==============================] - ETA: 0s - loss: 2.3751 - accuracy: 0.1754 - mae: 0.1723\n",
      "Epoch 7: val_accuracy did not improve from 0.20312\n",
      "21/21 [==============================] - 8s 366ms/step - loss: 2.3751 - accuracy: 0.1754 - mae: 0.1723 - val_loss: 2.2633 - val_accuracy: 0.2031 - val_mae: 0.1713\n",
      "Epoch 8/150\n",
      "21/21 [==============================] - ETA: 0s - loss: 2.2766 - accuracy: 0.2204 - mae: 0.1684\n",
      "Epoch 8: val_accuracy did not improve from 0.20312\n",
      "21/21 [==============================] - 8s 400ms/step - loss: 2.2766 - accuracy: 0.2204 - mae: 0.1684 - val_loss: 2.2286 - val_accuracy: 0.1484 - val_mae: 0.1730\n",
      "Epoch 9/150\n",
      "21/21 [==============================] - ETA: 0s - loss: 2.2040 - accuracy: 0.2189 - mae: 0.1655\n",
      "Epoch 9: val_accuracy improved from 0.20312 to 0.25781, saving model to vgg16_base_res.h5\n",
      "21/21 [==============================] - 16s 772ms/step - loss: 2.2040 - accuracy: 0.2189 - mae: 0.1655 - val_loss: 2.0048 - val_accuracy: 0.2578 - val_mae: 0.1591\n",
      "Epoch 10/150\n",
      "21/21 [==============================] - ETA: 0s - loss: 2.1982 - accuracy: 0.2444 - mae: 0.1621\n",
      "Epoch 10: val_accuracy did not improve from 0.25781\n",
      "21/21 [==============================] - 8s 387ms/step - loss: 2.1982 - accuracy: 0.2444 - mae: 0.1621 - val_loss: 2.0213 - val_accuracy: 0.2422 - val_mae: 0.1667\n",
      "Epoch 11/150\n",
      "21/21 [==============================] - ETA: 0s - loss: 2.1538 - accuracy: 0.2474 - mae: 0.1629\n",
      "Epoch 11: val_accuracy did not improve from 0.25781\n",
      "21/21 [==============================] - 8s 392ms/step - loss: 2.1538 - accuracy: 0.2474 - mae: 0.1629 - val_loss: 2.1405 - val_accuracy: 0.1875 - val_mae: 0.1687\n",
      "Epoch 12/150\n",
      "21/21 [==============================] - ETA: 0s - loss: 2.8931 - accuracy: 0.2729 - mae: 0.1612\n",
      "Epoch 12: val_accuracy did not improve from 0.25781\n",
      "21/21 [==============================] - 8s 376ms/step - loss: 2.8931 - accuracy: 0.2729 - mae: 0.1612 - val_loss: 2.5848 - val_accuracy: 0.2500 - val_mae: 0.1678\n",
      "Epoch 13/150\n",
      "21/21 [==============================] - ETA: 0s - loss: 3.0649 - accuracy: 0.1244 - mae: 0.1772\n",
      "Epoch 13: val_accuracy did not improve from 0.25781\n",
      "21/21 [==============================] - 8s 365ms/step - loss: 3.0649 - accuracy: 0.1244 - mae: 0.1772 - val_loss: 2.3779 - val_accuracy: 0.1250 - val_mae: 0.1792\n",
      "Epoch 14/150\n",
      "21/21 [==============================] - ETA: 0s - loss: 2.4353 - accuracy: 0.1589 - mae: 0.1751\n",
      "Epoch 14: val_accuracy did not improve from 0.25781\n",
      "21/21 [==============================] - 8s 394ms/step - loss: 2.4353 - accuracy: 0.1589 - mae: 0.1751 - val_loss: 2.2649 - val_accuracy: 0.1797 - val_mae: 0.1720\n",
      "Epoch 15/150\n",
      "21/21 [==============================] - ETA: 0s - loss: 2.3748 - accuracy: 0.2069 - mae: 0.1698\n",
      "Epoch 15: val_accuracy did not improve from 0.25781\n",
      "21/21 [==============================] - 8s 389ms/step - loss: 2.3748 - accuracy: 0.2069 - mae: 0.1698 - val_loss: 2.1598 - val_accuracy: 0.2422 - val_mae: 0.1731\n",
      "Epoch 16/150\n",
      "21/21 [==============================] - ETA: 0s - loss: 2.2385 - accuracy: 0.2354 - mae: 0.1680\n",
      "Epoch 16: val_accuracy did not improve from 0.25781\n",
      "21/21 [==============================] - 8s 393ms/step - loss: 2.2385 - accuracy: 0.2354 - mae: 0.1680 - val_loss: 2.2004 - val_accuracy: 0.2188 - val_mae: 0.1671\n",
      "Epoch 17/150\n",
      "21/21 [==============================] - ETA: 0s - loss: 2.1365 - accuracy: 0.2804 - mae: 0.1601\n",
      "Epoch 17: val_accuracy did not improve from 0.25781\n",
      "21/21 [==============================] - 8s 388ms/step - loss: 2.1365 - accuracy: 0.2804 - mae: 0.1601 - val_loss: 2.1558 - val_accuracy: 0.2422 - val_mae: 0.1595\n",
      "Epoch 18/150\n",
      "21/21 [==============================] - ETA: 0s - loss: 2.1374 - accuracy: 0.2339 - mae: 0.1631\n",
      "Epoch 18: val_accuracy improved from 0.25781 to 0.28906, saving model to vgg16_base_res.h5\n",
      "21/21 [==============================] - 21s 1s/step - loss: 2.1374 - accuracy: 0.2339 - mae: 0.1631 - val_loss: 1.9117 - val_accuracy: 0.2891 - val_mae: 0.1612\n",
      "Epoch 19/150\n",
      "21/21 [==============================] - ETA: 0s - loss: 2.0574 - accuracy: 0.2699 - mae: 0.1568\n",
      "Epoch 19: val_accuracy improved from 0.28906 to 0.30469, saving model to vgg16_base_res.h5\n",
      "21/21 [==============================] - 16s 761ms/step - loss: 2.0574 - accuracy: 0.2699 - mae: 0.1568 - val_loss: 2.1210 - val_accuracy: 0.3047 - val_mae: 0.1570\n",
      "Epoch 20/150\n",
      "21/21 [==============================] - ETA: 0s - loss: 2.0820 - accuracy: 0.2969 - mae: 0.1593\n",
      "Epoch 20: val_accuracy did not improve from 0.30469\n",
      "21/21 [==============================] - 8s 389ms/step - loss: 2.0820 - accuracy: 0.2969 - mae: 0.1593 - val_loss: 1.9046 - val_accuracy: 0.2891 - val_mae: 0.1602\n",
      "Epoch 21/150\n",
      "21/21 [==============================] - ETA: 0s - loss: 1.9964 - accuracy: 0.3028 - mae: 0.1548\n",
      "Epoch 21: val_accuracy improved from 0.30469 to 0.32812, saving model to vgg16_base_res.h5\n",
      "21/21 [==============================] - 16s 761ms/step - loss: 1.9964 - accuracy: 0.3028 - mae: 0.1548 - val_loss: 1.7580 - val_accuracy: 0.3281 - val_mae: 0.1513\n",
      "Epoch 22/150\n",
      "21/21 [==============================] - ETA: 0s - loss: 1.9875 - accuracy: 0.2924 - mae: 0.1526\n",
      "Epoch 22: val_accuracy improved from 0.32812 to 0.37500, saving model to vgg16_base_res.h5\n",
      "21/21 [==============================] - 21s 1s/step - loss: 1.9875 - accuracy: 0.2924 - mae: 0.1526 - val_loss: 1.8743 - val_accuracy: 0.3750 - val_mae: 0.1550\n",
      "Epoch 23/150\n",
      "21/21 [==============================] - ETA: 0s - loss: 1.8728 - accuracy: 0.3433 - mae: 0.1496\n",
      "Epoch 23: val_accuracy improved from 0.37500 to 0.42188, saving model to vgg16_base_res.h5\n",
      "21/21 [==============================] - 16s 780ms/step - loss: 1.8728 - accuracy: 0.3433 - mae: 0.1496 - val_loss: 1.7749 - val_accuracy: 0.4219 - val_mae: 0.1525\n",
      "Epoch 24/150\n",
      "21/21 [==============================] - ETA: 0s - loss: 1.7790 - accuracy: 0.3718 - mae: 0.1449\n",
      "Epoch 24: val_accuracy did not improve from 0.42188\n",
      "21/21 [==============================] - 8s 394ms/step - loss: 1.7790 - accuracy: 0.3718 - mae: 0.1449 - val_loss: 1.7623 - val_accuracy: 0.3359 - val_mae: 0.1513\n",
      "Epoch 25/150\n",
      "21/21 [==============================] - ETA: 0s - loss: 1.7802 - accuracy: 0.3568 - mae: 0.1412\n",
      "Epoch 25: val_accuracy did not improve from 0.42188\n",
      "21/21 [==============================] - 8s 393ms/step - loss: 1.7802 - accuracy: 0.3568 - mae: 0.1412 - val_loss: 1.7853 - val_accuracy: 0.3125 - val_mae: 0.1528\n",
      "Epoch 26/150\n",
      "21/21 [==============================] - ETA: 0s - loss: 1.7379 - accuracy: 0.3988 - mae: 0.1420\n",
      "Epoch 26: val_accuracy did not improve from 0.42188\n",
      "21/21 [==============================] - 8s 375ms/step - loss: 1.7379 - accuracy: 0.3988 - mae: 0.1420 - val_loss: 1.8086 - val_accuracy: 0.3438 - val_mae: 0.1461\n",
      "Epoch 27/150\n",
      "21/21 [==============================] - ETA: 0s - loss: 1.6244 - accuracy: 0.4438 - mae: 0.1361\n",
      "Epoch 27: val_accuracy did not improve from 0.42188\n",
      "21/21 [==============================] - 8s 391ms/step - loss: 1.6244 - accuracy: 0.4438 - mae: 0.1361 - val_loss: 1.7146 - val_accuracy: 0.3672 - val_mae: 0.1472\n",
      "Epoch 28/150\n",
      "21/21 [==============================] - ETA: 0s - loss: 1.6187 - accuracy: 0.4423 - mae: 0.1348\n",
      "Epoch 28: val_accuracy did not improve from 0.42188\n",
      "21/21 [==============================] - 8s 389ms/step - loss: 1.6187 - accuracy: 0.4423 - mae: 0.1348 - val_loss: 1.7311 - val_accuracy: 0.3281 - val_mae: 0.1426\n",
      "Epoch 29/150\n",
      "21/21 [==============================] - ETA: 0s - loss: 1.7357 - accuracy: 0.4078 - mae: 0.1357\n",
      "Epoch 29: val_accuracy did not improve from 0.42188\n",
      "21/21 [==============================] - 8s 390ms/step - loss: 1.7357 - accuracy: 0.4078 - mae: 0.1357 - val_loss: 2.1786 - val_accuracy: 0.3125 - val_mae: 0.1511\n",
      "Epoch 30/150\n",
      "21/21 [==============================] - ETA: 0s - loss: 1.8668 - accuracy: 0.3538 - mae: 0.1443\n",
      "Epoch 30: val_accuracy did not improve from 0.42188\n",
      "21/21 [==============================] - 8s 365ms/step - loss: 1.8668 - accuracy: 0.3538 - mae: 0.1443 - val_loss: 1.7052 - val_accuracy: 0.3672 - val_mae: 0.1461\n",
      "Epoch 31/150\n",
      "21/21 [==============================] - ETA: 0s - loss: 1.5735 - accuracy: 0.4423 - mae: 0.1322\n",
      "Epoch 31: val_accuracy did not improve from 0.42188\n",
      "21/21 [==============================] - 8s 366ms/step - loss: 1.5735 - accuracy: 0.4423 - mae: 0.1322 - val_loss: 1.9726 - val_accuracy: 0.2969 - val_mae: 0.1543\n",
      "Epoch 32/150\n",
      "21/21 [==============================] - ETA: 0s - loss: 1.6005 - accuracy: 0.4528 - mae: 0.1333\n",
      "Epoch 32: val_accuracy did not improve from 0.42188\n",
      "21/21 [==============================] - 8s 379ms/step - loss: 1.6005 - accuracy: 0.4528 - mae: 0.1333 - val_loss: 1.6769 - val_accuracy: 0.4062 - val_mae: 0.1373\n",
      "Epoch 33/150\n",
      "21/21 [==============================] - ETA: 0s - loss: 1.5386 - accuracy: 0.4603 - mae: 0.1298\n",
      "Epoch 33: val_accuracy improved from 0.42188 to 0.48438, saving model to vgg16_base_res.h5\n",
      "21/21 [==============================] - 16s 755ms/step - loss: 1.5386 - accuracy: 0.4603 - mae: 0.1298 - val_loss: 1.5859 - val_accuracy: 0.4844 - val_mae: 0.1314\n",
      "Epoch 34/150\n",
      "21/21 [==============================] - ETA: 0s - loss: 1.4656 - accuracy: 0.4723 - mae: 0.1259\n",
      "Epoch 34: val_accuracy did not improve from 0.48438\n",
      "21/21 [==============================] - 8s 390ms/step - loss: 1.4656 - accuracy: 0.4723 - mae: 0.1259 - val_loss: 1.9128 - val_accuracy: 0.4297 - val_mae: 0.1265\n",
      "Epoch 35/150\n",
      "21/21 [==============================] - ETA: 0s - loss: 1.5888 - accuracy: 0.4509 - mae: 0.1308\n",
      "Epoch 35: val_accuracy did not improve from 0.48438\n",
      "21/21 [==============================] - 8s 388ms/step - loss: 1.5888 - accuracy: 0.4509 - mae: 0.1308 - val_loss: 1.6288 - val_accuracy: 0.4453 - val_mae: 0.1364\n",
      "Epoch 36/150\n",
      "21/21 [==============================] - ETA: 0s - loss: 1.5401 - accuracy: 0.4513 - mae: 0.1282\n",
      "Epoch 36: val_accuracy did not improve from 0.48438\n",
      "21/21 [==============================] - 8s 378ms/step - loss: 1.5401 - accuracy: 0.4513 - mae: 0.1282 - val_loss: 1.5847 - val_accuracy: 0.4297 - val_mae: 0.1373\n",
      "Epoch 37/150\n",
      "21/21 [==============================] - ETA: 0s - loss: 1.4252 - accuracy: 0.4948 - mae: 0.1229\n",
      "Epoch 37: val_accuracy did not improve from 0.48438\n",
      "21/21 [==============================] - 8s 371ms/step - loss: 1.4252 - accuracy: 0.4948 - mae: 0.1229 - val_loss: 1.5872 - val_accuracy: 0.4766 - val_mae: 0.1320\n",
      "Epoch 38/150\n",
      "21/21 [==============================] - ETA: 0s - loss: 1.3719 - accuracy: 0.5262 - mae: 0.1196\n",
      "Epoch 38: val_accuracy did not improve from 0.48438\n",
      "21/21 [==============================] - 8s 398ms/step - loss: 1.3719 - accuracy: 0.5262 - mae: 0.1196 - val_loss: 1.6549 - val_accuracy: 0.4375 - val_mae: 0.1311\n",
      "Epoch 39/150\n",
      "21/21 [==============================] - ETA: 0s - loss: 1.3214 - accuracy: 0.5277 - mae: 0.1166\n",
      "Epoch 39: val_accuracy improved from 0.48438 to 0.50781, saving model to vgg16_base_res.h5\n",
      "21/21 [==============================] - 22s 1s/step - loss: 1.3214 - accuracy: 0.5277 - mae: 0.1166 - val_loss: 1.5240 - val_accuracy: 0.5078 - val_mae: 0.1227\n",
      "Epoch 40/150\n",
      "21/21 [==============================] - ETA: 0s - loss: 1.2325 - accuracy: 0.5517 - mae: 0.1110\n",
      "Epoch 40: val_accuracy did not improve from 0.50781\n",
      "21/21 [==============================] - 8s 386ms/step - loss: 1.2325 - accuracy: 0.5517 - mae: 0.1110 - val_loss: 1.5498 - val_accuracy: 0.4453 - val_mae: 0.1259\n",
      "Epoch 41/150\n",
      "21/21 [==============================] - ETA: 0s - loss: 1.2492 - accuracy: 0.5742 - mae: 0.1084\n",
      "Epoch 41: val_accuracy did not improve from 0.50781\n",
      "21/21 [==============================] - 8s 387ms/step - loss: 1.2492 - accuracy: 0.5742 - mae: 0.1084 - val_loss: 1.6848 - val_accuracy: 0.5000 - val_mae: 0.1173\n",
      "Epoch 42/150\n",
      "21/21 [==============================] - ETA: 0s - loss: 1.1353 - accuracy: 0.5892 - mae: 0.1032\n",
      "Epoch 42: val_accuracy did not improve from 0.50781\n",
      "21/21 [==============================] - 8s 371ms/step - loss: 1.1353 - accuracy: 0.5892 - mae: 0.1032 - val_loss: 1.6776 - val_accuracy: 0.4609 - val_mae: 0.1240\n",
      "Epoch 43/150\n",
      "21/21 [==============================] - ETA: 0s - loss: 1.2064 - accuracy: 0.5712 - mae: 0.1057\n",
      "Epoch 43: val_accuracy did not improve from 0.50781\n",
      "21/21 [==============================] - 8s 392ms/step - loss: 1.2064 - accuracy: 0.5712 - mae: 0.1057 - val_loss: 1.6150 - val_accuracy: 0.4922 - val_mae: 0.1187\n",
      "Epoch 44/150\n",
      "21/21 [==============================] - ETA: 0s - loss: 1.2891 - accuracy: 0.5457 - mae: 0.1135\n",
      "Epoch 44: val_accuracy did not improve from 0.50781\n",
      "21/21 [==============================] - 8s 372ms/step - loss: 1.2891 - accuracy: 0.5457 - mae: 0.1135 - val_loss: 1.7431 - val_accuracy: 0.4297 - val_mae: 0.1261\n",
      "Epoch 45/150\n",
      "21/21 [==============================] - ETA: 0s - loss: 1.1688 - accuracy: 0.5682 - mae: 0.1052\n",
      "Epoch 45: val_accuracy did not improve from 0.50781\n",
      "21/21 [==============================] - 8s 374ms/step - loss: 1.1688 - accuracy: 0.5682 - mae: 0.1052 - val_loss: 1.6225 - val_accuracy: 0.4688 - val_mae: 0.1230\n",
      "Epoch 46/150\n",
      "21/21 [==============================] - ETA: 0s - loss: 1.1265 - accuracy: 0.6012 - mae: 0.1022\n",
      "Epoch 46: val_accuracy did not improve from 0.50781\n",
      "21/21 [==============================] - 8s 387ms/step - loss: 1.1265 - accuracy: 0.6012 - mae: 0.1022 - val_loss: 1.6432 - val_accuracy: 0.4766 - val_mae: 0.1187\n",
      "Epoch 47/150\n",
      "21/21 [==============================] - ETA: 0s - loss: 1.0658 - accuracy: 0.6087 - mae: 0.0989\n",
      "Epoch 47: val_accuracy improved from 0.50781 to 0.53125, saving model to vgg16_base_res.h5\n",
      "21/21 [==============================] - 18s 892ms/step - loss: 1.0658 - accuracy: 0.6087 - mae: 0.0989 - val_loss: 1.7295 - val_accuracy: 0.5312 - val_mae: 0.1087\n",
      "Epoch 48/150\n",
      "21/21 [==============================] - ETA: 0s - loss: 1.1031 - accuracy: 0.6297 - mae: 0.0962\n",
      "Epoch 48: val_accuracy did not improve from 0.53125\n",
      "21/21 [==============================] - 8s 391ms/step - loss: 1.1031 - accuracy: 0.6297 - mae: 0.0962 - val_loss: 2.1839 - val_accuracy: 0.3594 - val_mae: 0.1281\n",
      "Epoch 49/150\n",
      "21/21 [==============================] - ETA: 0s - loss: 1.4642 - accuracy: 0.5082 - mae: 0.1152\n",
      "Epoch 49: val_accuracy did not improve from 0.53125\n",
      "21/21 [==============================] - 8s 390ms/step - loss: 1.4642 - accuracy: 0.5082 - mae: 0.1152 - val_loss: 1.4542 - val_accuracy: 0.5078 - val_mae: 0.1212\n",
      "Epoch 50/150\n",
      "21/21 [==============================] - ETA: 0s - loss: 1.0688 - accuracy: 0.6417 - mae: 0.0983\n",
      "Epoch 50: val_accuracy did not improve from 0.53125\n",
      "21/21 [==============================] - 8s 390ms/step - loss: 1.0688 - accuracy: 0.6417 - mae: 0.0983 - val_loss: 1.5971 - val_accuracy: 0.4922 - val_mae: 0.1154\n",
      "Epoch 51/150\n",
      "21/21 [==============================] - ETA: 0s - loss: 1.0245 - accuracy: 0.6522 - mae: 0.0933\n",
      "Epoch 51: val_accuracy did not improve from 0.53125\n",
      "21/21 [==============================] - 9s 395ms/step - loss: 1.0245 - accuracy: 0.6522 - mae: 0.0933 - val_loss: 1.7224 - val_accuracy: 0.4844 - val_mae: 0.1191\n",
      "Epoch 52/150\n",
      "21/21 [==============================] - ETA: 0s - loss: 1.1058 - accuracy: 0.6207 - mae: 0.0977\n",
      "Epoch 52: val_accuracy did not improve from 0.53125\n",
      "21/21 [==============================] - 8s 381ms/step - loss: 1.1058 - accuracy: 0.6207 - mae: 0.0977 - val_loss: 1.9255 - val_accuracy: 0.4531 - val_mae: 0.1267\n",
      "Epoch 53/150\n",
      "21/21 [==============================] - ETA: 0s - loss: 1.0159 - accuracy: 0.6417 - mae: 0.0899\n",
      "Epoch 53: val_accuracy did not improve from 0.53125\n",
      "21/21 [==============================] - 8s 394ms/step - loss: 1.0159 - accuracy: 0.6417 - mae: 0.0899 - val_loss: 1.5360 - val_accuracy: 0.4766 - val_mae: 0.1185\n",
      "Epoch 54/150\n",
      "21/21 [==============================] - ETA: 0s - loss: 0.9904 - accuracy: 0.6447 - mae: 0.0917\n",
      "Epoch 54: val_accuracy did not improve from 0.53125\n",
      "21/21 [==============================] - 8s 393ms/step - loss: 0.9904 - accuracy: 0.6447 - mae: 0.0917 - val_loss: 1.9947 - val_accuracy: 0.4141 - val_mae: 0.1199\n",
      "Epoch 55/150\n",
      "21/21 [==============================] - ETA: 0s - loss: 0.8398 - accuracy: 0.7061 - mae: 0.0806\n",
      "Epoch 55: val_accuracy improved from 0.53125 to 0.55469, saving model to vgg16_base_res.h5\n",
      "21/21 [==============================] - 16s 759ms/step - loss: 0.8398 - accuracy: 0.7061 - mae: 0.0806 - val_loss: 1.7312 - val_accuracy: 0.5547 - val_mae: 0.1049\n",
      "Epoch 56/150\n",
      "21/21 [==============================] - ETA: 0s - loss: 0.8879 - accuracy: 0.7211 - mae: 0.0810\n",
      "Epoch 56: val_accuracy did not improve from 0.55469\n",
      "21/21 [==============================] - 8s 388ms/step - loss: 0.8879 - accuracy: 0.7211 - mae: 0.0810 - val_loss: 1.7134 - val_accuracy: 0.4844 - val_mae: 0.1185\n",
      "Epoch 57/150\n",
      "21/21 [==============================] - ETA: 0s - loss: 0.8049 - accuracy: 0.7076 - mae: 0.0759\n",
      "Epoch 57: val_accuracy did not improve from 0.55469\n",
      "21/21 [==============================] - 8s 365ms/step - loss: 0.8049 - accuracy: 0.7076 - mae: 0.0759 - val_loss: 1.7615 - val_accuracy: 0.5312 - val_mae: 0.1068\n",
      "Epoch 58/150\n",
      "21/21 [==============================] - ETA: 0s - loss: 0.8178 - accuracy: 0.7151 - mae: 0.0741\n",
      "Epoch 58: val_accuracy did not improve from 0.55469\n",
      "21/21 [==============================] - 8s 394ms/step - loss: 0.8178 - accuracy: 0.7151 - mae: 0.0741 - val_loss: 2.0349 - val_accuracy: 0.4453 - val_mae: 0.1208\n",
      "Epoch 59/150\n",
      "21/21 [==============================] - ETA: 0s - loss: 0.9158 - accuracy: 0.6882 - mae: 0.0796\n",
      "Epoch 59: val_accuracy did not improve from 0.55469\n",
      "21/21 [==============================] - 8s 378ms/step - loss: 0.9158 - accuracy: 0.6882 - mae: 0.0796 - val_loss: 1.8503 - val_accuracy: 0.4922 - val_mae: 0.1203\n",
      "Epoch 60/150\n",
      "21/21 [==============================] - ETA: 0s - loss: 0.7370 - accuracy: 0.7466 - mae: 0.0715\n",
      "Epoch 60: val_accuracy did not improve from 0.55469\n",
      "21/21 [==============================] - 8s 376ms/step - loss: 0.7370 - accuracy: 0.7466 - mae: 0.0715 - val_loss: 1.8519 - val_accuracy: 0.4922 - val_mae: 0.1148\n",
      "Epoch 61/150\n",
      "21/21 [==============================] - ETA: 0s - loss: 0.5762 - accuracy: 0.8126 - mae: 0.0562\n",
      "Epoch 61: val_accuracy did not improve from 0.55469\n",
      "21/21 [==============================] - 8s 391ms/step - loss: 0.5762 - accuracy: 0.8126 - mae: 0.0562 - val_loss: 2.1424 - val_accuracy: 0.4844 - val_mae: 0.1130\n",
      "Epoch 62/150\n",
      "21/21 [==============================] - ETA: 0s - loss: 0.6079 - accuracy: 0.7946 - mae: 0.0558\n",
      "Epoch 62: val_accuracy did not improve from 0.55469\n",
      "21/21 [==============================] - 8s 368ms/step - loss: 0.6079 - accuracy: 0.7946 - mae: 0.0558 - val_loss: 2.2732 - val_accuracy: 0.5000 - val_mae: 0.1104\n",
      "Epoch 63/150\n",
      "21/21 [==============================] - ETA: 0s - loss: 0.5915 - accuracy: 0.7886 - mae: 0.0577\n",
      "Epoch 63: val_accuracy did not improve from 0.55469\n",
      "21/21 [==============================] - 8s 390ms/step - loss: 0.5915 - accuracy: 0.7886 - mae: 0.0577 - val_loss: 2.0459 - val_accuracy: 0.5078 - val_mae: 0.1076\n",
      "Epoch 64/150\n",
      "21/21 [==============================] - ETA: 0s - loss: 0.5388 - accuracy: 0.8321 - mae: 0.0522\n",
      "Epoch 64: val_accuracy did not improve from 0.55469\n",
      "21/21 [==============================] - 8s 369ms/step - loss: 0.5388 - accuracy: 0.8321 - mae: 0.0522 - val_loss: 2.1308 - val_accuracy: 0.5547 - val_mae: 0.1006\n",
      "Epoch 65/150\n",
      "21/21 [==============================] - ETA: 0s - loss: 0.4854 - accuracy: 0.8396 - mae: 0.0480\n",
      "Epoch 65: val_accuracy did not improve from 0.55469\n",
      "21/21 [==============================] - 8s 388ms/step - loss: 0.4854 - accuracy: 0.8396 - mae: 0.0480 - val_loss: 2.3569 - val_accuracy: 0.5234 - val_mae: 0.1031\n",
      "Epoch 66/150\n",
      "21/21 [==============================] - ETA: 0s - loss: 0.3984 - accuracy: 0.8666 - mae: 0.0392\n",
      "Epoch 66: val_accuracy did not improve from 0.55469\n",
      "21/21 [==============================] - 8s 388ms/step - loss: 0.3984 - accuracy: 0.8666 - mae: 0.0392 - val_loss: 2.4697 - val_accuracy: 0.5156 - val_mae: 0.1052\n",
      "Epoch 67/150\n",
      "21/21 [==============================] - ETA: 0s - loss: 0.5557 - accuracy: 0.8081 - mae: 0.0472\n",
      "Epoch 67: val_accuracy did not improve from 0.55469\n",
      "21/21 [==============================] - 8s 376ms/step - loss: 0.5557 - accuracy: 0.8081 - mae: 0.0472 - val_loss: 2.6453 - val_accuracy: 0.5000 - val_mae: 0.1054\n",
      "Epoch 68/150\n",
      "21/21 [==============================] - ETA: 0s - loss: 0.6377 - accuracy: 0.7811 - mae: 0.0593\n",
      "Epoch 68: val_accuracy did not improve from 0.55469\n",
      "21/21 [==============================] - 8s 369ms/step - loss: 0.6377 - accuracy: 0.7811 - mae: 0.0593 - val_loss: 2.3542 - val_accuracy: 0.5000 - val_mae: 0.1041\n",
      "Epoch 69/150\n",
      "21/21 [==============================] - ETA: 0s - loss: 0.4395 - accuracy: 0.8531 - mae: 0.0444\n",
      "Epoch 69: val_accuracy did not improve from 0.55469\n",
      "21/21 [==============================] - 8s 374ms/step - loss: 0.4395 - accuracy: 0.8531 - mae: 0.0444 - val_loss: 2.9030 - val_accuracy: 0.5156 - val_mae: 0.1006\n",
      "Epoch 70/150\n",
      "21/21 [==============================] - ETA: 0s - loss: 0.4553 - accuracy: 0.8576 - mae: 0.0400\n",
      "Epoch 70: val_accuracy did not improve from 0.55469\n",
      "21/21 [==============================] - 8s 368ms/step - loss: 0.4553 - accuracy: 0.8576 - mae: 0.0400 - val_loss: 1.8156 - val_accuracy: 0.5391 - val_mae: 0.0995\n",
      "Epoch 71/150\n",
      "21/21 [==============================] - ETA: 0s - loss: 0.2935 - accuracy: 0.8966 - mae: 0.0319\n",
      "Epoch 71: val_accuracy did not improve from 0.55469\n",
      "21/21 [==============================] - 8s 398ms/step - loss: 0.2935 - accuracy: 0.8966 - mae: 0.0319 - val_loss: 2.7036 - val_accuracy: 0.4922 - val_mae: 0.1031\n",
      "Epoch 72/150\n",
      "21/21 [==============================] - ETA: 0s - loss: 0.2170 - accuracy: 0.9100 - mae: 0.0222\n",
      "Epoch 72: val_accuracy did not improve from 0.55469\n",
      "21/21 [==============================] - 8s 367ms/step - loss: 0.2170 - accuracy: 0.9100 - mae: 0.0222 - val_loss: 2.7441 - val_accuracy: 0.5391 - val_mae: 0.0999\n",
      "Epoch 73/150\n",
      "21/21 [==============================] - ETA: 0s - loss: 0.2518 - accuracy: 0.9265 - mae: 0.0250\n",
      "Epoch 73: val_accuracy did not improve from 0.55469\n",
      "21/21 [==============================] - 8s 397ms/step - loss: 0.2518 - accuracy: 0.9265 - mae: 0.0250 - val_loss: 3.3564 - val_accuracy: 0.4922 - val_mae: 0.1052\n",
      "Epoch 74/150\n",
      "21/21 [==============================] - ETA: 0s - loss: 0.3028 - accuracy: 0.8861 - mae: 0.0285\n",
      "Epoch 74: val_accuracy did not improve from 0.55469\n",
      "21/21 [==============================] - 8s 372ms/step - loss: 0.3028 - accuracy: 0.8861 - mae: 0.0285 - val_loss: 2.5987 - val_accuracy: 0.4922 - val_mae: 0.1040\n",
      "Epoch 75/150\n",
      "21/21 [==============================] - ETA: 0s - loss: 0.3323 - accuracy: 0.8906 - mae: 0.0330\n",
      "Epoch 75: val_accuracy did not improve from 0.55469\n",
      "21/21 [==============================] - 8s 363ms/step - loss: 0.3323 - accuracy: 0.8906 - mae: 0.0330 - val_loss: 3.3091 - val_accuracy: 0.4844 - val_mae: 0.1027\n",
      "Epoch 75: early stopping\n"
     ]
    }
   ],
   "source": [
    "hist = model.fit(traindata, steps_per_epoch=traindata.samples//traindata.batch_size, validation_data=valdata,\n",
    "                 class_weight=class_weights, validation_steps=valdata.samples//valdata.batch_size,\n",
    "                 epochs=150,callbacks=[checkpoint,early])"
   ]
  },
  {
   "cell_type": "code",
   "execution_count": 14,
   "metadata": {
    "colab": {
     "base_uri": "https://localhost:8080/"
    },
    "executionInfo": {
     "elapsed": 96227,
     "status": "ok",
     "timestamp": 1702259625662,
     "user": {
      "displayName": "Hannah Grace Macaraeg Smith",
      "userId": "12827411390873405622"
     },
     "user_tz": 480
    },
    "id": "43-rlHXLj4yy",
    "outputId": "79cb8170-c4ea-4f69-b8c7-c754d37e1fca"
   },
   "outputs": [
    {
     "name": "stdout",
     "output_type": "stream",
     "text": [
      "Found 150 images belonging to 10 classes.\n",
      "5/5 [==============================] - 44s 11s/step - loss: 3.8014 - accuracy: 0.4267 - mae: 0.1188\n"
     ]
    }
   ],
   "source": [
    "# Test\n",
    "test_loc = '/content/gdrive/MyDrive/split_image_data/test'\n",
    "tsdata = ImageDataGenerator()\n",
    "testdata = vldata.flow_from_directory(directory=test_loc, target_size=(224,224))\n",
    "\n",
    "results = model.evaluate(testdata)"
   ]
  },
  {
   "cell_type": "markdown",
   "metadata": {
    "id": "GY2IY462B5gm"
   },
   "source": [
    "Plots"
   ]
  },
  {
   "cell_type": "code",
   "execution_count": 13,
   "metadata": {
    "colab": {
     "base_uri": "https://localhost:8080/",
     "height": 1000
    },
    "executionInfo": {
     "elapsed": 2375,
     "status": "ok",
     "timestamp": 1702259260121,
     "user": {
      "displayName": "Hannah Grace Macaraeg Smith",
      "userId": "12827411390873405622"
     },
     "user_tz": 480
    },
    "id": "1xAGwfkzB5gm",
    "outputId": "2d63d210-a28b-44b0-8146-e11194d68ab7"
   },
   "outputs": [
    {
     "data": {
      "image/png": "[encoded data removed]",
      "text/plain": [
       "<Figure size 640x480 with 1 Axes>"
      ]
     },
     "metadata": {},
     "output_type": "display_data"
    },
    {
     "data": {
      "image/png": "[encoded data removed]",
      "text/plain": [
       "<Figure size 640x480 with 1 Axes>"
      ]
     },
     "metadata": {},
     "output_type": "display_data"
    },
    {
     "data": {
      "image/png": "[encoded data removed]",
      "text/plain": [
       "<Figure size 640x480 with 1 Axes>"
      ]
     },
     "metadata": {},
     "output_type": "display_data"
    }
   ],
   "source": [
    "plt.plot(hist.history['loss'], label='train')\n",
    "plt.plot(hist.history['val_loss'], label='val')\n",
    "plt.title('VGG16: Loss and Validation Loss (0.001 = Adam LR)')\n",
    "plt.legend();\n",
    "plt.show()\n",
    "\n",
    "plt.plot(hist.history['accuracy'], label='train')\n",
    "plt.plot(hist.history['val_accuracy'], label='val')\n",
    "plt.title('VGG16: Accuracy and Validation Accuracy (0.001 = Adam LR)')\n",
    "plt.legend();\n",
    "plt.show()\n",
    "\n",
    "plt.plot(hist.history['mae'], label='train')\n",
    "plt.plot(hist.history['val_mae'], label='val')\n",
    "plt.title('VGG16: MAE and Validation MAE (0.000001 = Adam LR)')\n",
    "plt.legend();\n",
    "plt.show()"
   ]
  }
 ],
 "metadata": {
  "accelerator": "GPU",
  "colab": {
   "gpuType": "T4",
   "provenance": []
  },
  "kernelspec": {
   "display_name": "Python 3 (ipykernel)",
   "language": "python",
   "name": "python3"
  },
  "language_info": {
   "codemirror_mode": {
    "name": "ipython",
    "version": 3
   },
   "file_extension": ".py",
   "mimetype": "text/x-python",
   "name": "python",
   "nbconvert_exporter": "python",
   "pygments_lexer": "ipython3",
   "version": "3.9.7"
  }
 },
 "nbformat": 4,
 "nbformat_minor": 1
}
